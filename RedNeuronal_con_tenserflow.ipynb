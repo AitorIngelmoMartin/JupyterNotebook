{
 "cells": [
  {
   "cell_type": "code",
   "execution_count": 16,
   "id": "fc7b894c",
   "metadata": {},
   "outputs": [],
   "source": [
    "import tensorflow as tf\n",
    "import numpy as np"
   ]
  },
  {
   "cell_type": "code",
   "execution_count": 17,
   "id": "eaabaf4f",
   "metadata": {},
   "outputs": [],
   "source": [
    "celsius    = np.array([-40, -10, 0, 8, 15, 22, 38], dtype = float)\n",
    "fahrenheit = np.array([-40, 14, 32, 46, 59, 72, 100], dtype = float)\n"
   ]
  },
  {
   "cell_type": "code",
   "execution_count": 18,
   "id": "04b6ce4e",
   "metadata": {},
   "outputs": [],
   "source": [
    "capa   = tf.keras.layers.Dense(units =1, input_shape =[1])\n",
    "modelo = tf.keras.Sequential([capa])"
   ]
  },
  {
   "cell_type": "markdown",
   "id": "3d450260",
   "metadata": {},
   "source": [
    "### Optimizer\n",
    "- La celda inferior me permite ir optimizando la red neuronal gracias al algoritmo Adam. El valor proporiconado a Adam marca la tasa de aprendizaje, estableciendo de cuanto en cuanto se deben reajustar los sesgos y pesos de las conexiones de las neuronas.\n",
    "- Cuando menor sea el valor de Adam, mayor fineza vamos a tener y por tanto mayor costo computacional.\n",
    "\n",
    "### LOSS\n",
    "- La funcion \"loss\" va a tomar el valor \"mean_squared_error\". Esto significa que usa el principio del error cuadrático medio, que viene a significar que pocos errores grandes son mucho peores que varios errores pequeños."
   ]
  },
  {
   "cell_type": "code",
   "execution_count": 19,
   "id": "148f7d5b",
   "metadata": {},
   "outputs": [],
   "source": [
    "modelo.compile(optimizer=tf.keras.optimizers.Adam(0.1),\n",
    "              loss =\"mean_squared_error\")"
   ]
  },
  {
   "cell_type": "markdown",
   "id": "7081c490",
   "metadata": {},
   "source": [
    "### Entrenamiento\n",
    "- Vamos a emplear la función \"fit\", al cual le debo pasar 3 parámetros.\n",
    "    - Primero: El array de entradas.\n",
    "    - Segundo: El array de salidas.\n",
    "    - Tercero: El número de vueltas\n",
    "- Las vueltas es el número de iteraciones que hará nuestro modelo para ir corrigiendo los errores.\n",
    "\n",
    "- Al margen de esto, es interesante añadir el atributo \"verbose=False\" para que no se nos impriman valores absurdos mientras se entrena el modelo.\n",
    " "
   ]
  },
  {
   "cell_type": "code",
   "execution_count": 20,
   "id": "9abe1f3a",
   "metadata": {},
   "outputs": [
    {
     "name": "stdout",
     "output_type": "stream",
     "text": [
      "Inicio del entrenamiento ...\n",
      "Fin del entrenamiento ...\n"
     ]
    }
   ],
   "source": [
    "print(\"Inicio del entrenamiento ...\")\n",
    "historial = modelo.fit(celsius, fahrenheit, epochs=1000,verbose=False)\n",
    "print(\"Fin del entrenamiento ...\")"
   ]
  },
  {
   "cell_type": "markdown",
   "id": "2c64be30",
   "metadata": {},
   "source": [
    "### Información sobre el entrenamiento\n",
    "- Vamos a importar \"matplotlib.pyplot\" para poder estudiar el rendimiento de nuestro entrenamiento. "
   ]
  },
  {
   "cell_type": "code",
   "execution_count": 21,
   "id": "53de9198",
   "metadata": {},
   "outputs": [],
   "source": [
    "import matplotlib.pyplot as plt"
   ]
  },
  {
   "cell_type": "code",
   "execution_count": 22,
   "id": "43a76dec",
   "metadata": {},
   "outputs": [
    {
     "data": {
      "text/plain": [
       "[<matplotlib.lines.Line2D at 0x23f61ea9cc0>]"
      ]
     },
     "execution_count": 22,
     "metadata": {},
     "output_type": "execute_result"
    },
    {
     "data": {
      "image/png": "[encoded data removed]",
      "text/plain": [
       "<Figure size 432x288 with 1 Axes>"
      ]
     },
     "metadata": {
      "needs_background": "light"
     },
     "output_type": "display_data"
    }
   ],
   "source": [
    "plt.xlabel(\"# Epoca\")\n",
    "plt.ylabel(\"Magnitud de pérdida\")\n",
    "plt.plot(historial.history[\"loss\"])"
   ]
  },
  {
   "cell_type": "markdown",
   "id": "8ed28977",
   "metadata": {},
   "source": [
    "### Análisis de la gráfica anterior\n",
    "- A raiz de la gráfica podemos observar una asíntota en el eje \"X\" que nos indica que a partir de las 400 vueltas nuestras pérdidas toman un valor constante, por lo que con un valor en el margen [400,500] nos habría valido para entrenar al modelo.\n",
    "\n",
    "- El siguiente paso es introducir un valor en ºC, y observar como de cerca queda nuestra salida del cambio de unidades correcto. Para esto llamamos a la función predict de nuestro modelo, y le introducimos un valor arbitrario. En este caso van a ser 100ºC"
   ]
  },
  {
   "cell_type": "code",
   "execution_count": 23,
   "id": "a1400716",
   "metadata": {},
   "outputs": [
    {
     "name": "stdout",
     "output_type": "stream",
     "text": [
      "Prediccion tras entrenamiento:\n",
      "1/1 [==============================] - 0s 31ms/step\n",
      "El resultado es [[211.74336]] grados fahrenheit\n"
     ]
    }
   ],
   "source": [
    "print(\"Prediccion tras entrenamiento:\")\n",
    "resultado = modelo.predict([100.0])\n",
    "\n",
    "print(\"El resultado es \" + str(resultado) + \" grados fahrenheit\")\n"
   ]
  },
  {
   "attachments": {
    "image.png": {
     "image/png": "[encoded data removed]"
    }
   },
   "cell_type": "markdown",
   "id": "a32461c8",
   "metadata": {},
   "source": [
    "### Resultado final\n",
    "- Si introducimos el valor de 100ºC en la calculadora de google, nos devuelve un valor de 212 fahrenheit.\n",
    "![image.png](attachment:image.png)\n",
    "- En base a esto, podemos confirmar que nuestra red neurnal ha sido correctamente entrenada ya que nos devuelve un valor relativamente próximo al real.\n"
   ]
  }
 ],
 "metadata": {
  "kernelspec": {
   "display_name": "Python 3 (ipykernel)",
   "language": "python",
   "name": "python3"
  },
  "language_info": {
   "codemirror_mode": {
    "name": "ipython",
    "version": 3
   },
   "file_extension": ".py",
   "mimetype": "text/x-python",
   "name": "python",
   "nbconvert_exporter": "python",
   "pygments_lexer": "ipython3",
   "version": "3.10.0"
  },
  "varInspector": {
   "cols": {
    "lenName": 16,
    "lenType": 16,
    "lenVar": 40
   },
   "kernels_config": {
    "python": {
     "delete_cmd_postfix": "",
     "delete_cmd_prefix": "del ",
     "library": "var_list.py",
     "varRefreshCmd": "print(var_dic_list())"
    },
    "r": {
     "delete_cmd_postfix": ") ",
     "delete_cmd_prefix": "rm(",
     "library": "var_list.r",
     "varRefreshCmd": "cat(var_dic_list()) "
    }
   },
   "types_to_exclude": [
    "module",
    "function",
    "builtin_function_or_method",
    "instance",
    "_Feature"
   ],
   "window_display": false
  }
 },
 "nbformat": 4,
 "nbformat_minor": 5
}
