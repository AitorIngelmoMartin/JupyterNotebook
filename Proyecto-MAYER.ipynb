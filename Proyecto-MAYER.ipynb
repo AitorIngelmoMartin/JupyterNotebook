{
 "cells": [
  {
   "cell_type": "code",
   "execution_count": 22,
   "id": "74b8f532",
   "metadata": {},
   "outputs": [],
   "source": [
    "from dataclasses import dataclass\n",
    "from tkinter import *\n",
    "from tkinter import ttk"
   ]
  },
  {
   "cell_type": "code",
   "execution_count": 23,
   "id": "b6bea3e9",
   "metadata": {},
   "outputs": [],
   "source": [
    "@dataclass\n",
    "class cliente(object):\n",
    "    nombre: str\n",
    "    apellido: str\n",
    "    edad: int\n",
    "    sexo: str\n",
    "    def ajustar_genero(self,sexo):\n",
    "        \"\"\"\"Nos muestra el género de la persona. 0-Femenino/1-Masculino\"\"\"\n",
    "        genero = (\"Masculino\",\"Femenido\")\n",
    "        if sexo == 1:\n",
    "           return genero[0]\n",
    "        elif sexo == 0:\n",
    "          return genero[1]\n",
    "        else:\n",
    "          return \"No determinado\"\n"
   ]
  },
  {
   "cell_type": "code",
   "execution_count": 24,
   "id": "eb9e466c",
   "metadata": {},
   "outputs": [
    {
     "name": "stdout",
     "output_type": "stream",
     "text": [
      "cliente(nombre='Marcos', apellido='Moreno', edad=24, sexo=1)\n"
     ]
    }
   ],
   "source": [
    "cliente_1 = cliente(\"Marcos\",\"Moreno\",24,1)\n",
    "# cliente_1.sexo = cliente_1.ajustar_genero(cliente_1.sexo)\n",
    "\n",
    "print(cliente_1)"
   ]
  },
  {
   "cell_type": "code",
   "execution_count": 28,
   "id": "7f18c292",
   "metadata": {},
   "outputs": [],
   "source": [
    "raiz =Tk()\n",
    "altura_pantalla  = raiz.winfo_screenheight()\n",
    "anchura_pantalla = raiz.winfo_screenwidth()\n",
    "raiz.title(\"Ventana de prueba\")\n",
    "\n",
    "raiz.resizable(True,True)\n",
    "\n",
    "def centrar(r): # Esta funcion centra la pantalla\n",
    "    altura  = r.winfo_reqheight()\n",
    "    anchura = r.winfo_reqwidth()\n",
    "    \n",
    "    x = (anchura_pantalla // 2) - (anchura//2)\n",
    "    y = (altura_pantalla//2) - (altura//2)\n",
    "    r.geometry(f\"+{x}+{y}\")\n",
    "centrar(raiz)\n",
    "\n",
    "\n",
    "raiz.mainloop()"
   ]
  },
  {
   "cell_type": "code",
   "execution_count": null,
   "id": "7f732046",
   "metadata": {},
   "outputs": [],
   "source": []
  }
 ],
 "metadata": {
  "kernelspec": {
   "display_name": "Python 3 (ipykernel)",
   "language": "python",
   "name": "python3"
  },
  "language_info": {
   "codemirror_mode": {
    "name": "ipython",
    "version": 3
   },
   "file_extension": ".py",
   "mimetype": "text/x-python",
   "name": "python",
   "nbconvert_exporter": "python",
   "pygments_lexer": "ipython3",
   "version": "3.10.0"
  }
 },
 "nbformat": 4,
 "nbformat_minor": 5
}
