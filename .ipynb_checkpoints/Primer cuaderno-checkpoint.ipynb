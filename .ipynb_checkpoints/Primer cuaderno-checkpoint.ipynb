{
 "cells": [
  {
   "cell_type": "markdown",
   "id": "8fc9ef72",
   "metadata": {},
   "source": [
    "### Importar librerias:\n",
    " - !pip install \"libreria\""
   ]
  },
  {
   "cell_type": "code",
   "execution_count": 2,
   "id": "67428b98",
   "metadata": {},
   "outputs": [],
   "source": [
    "import numpy as np\n"
   ]
  },
  {
   "cell_type": "code",
   "execution_count": 3,
   "id": "096589c1",
   "metadata": {},
   "outputs": [
    {
     "name": "stdout",
     "output_type": "stream",
     "text": [
      "Diego tiene más edad que Aitor\n"
     ]
    }
   ],
   "source": [
    "Aitor = 20\n",
    "Diego = 22\n",
    "\n",
    "if Aitor > Diego:\n",
    "    print(\"Aitor tiene más edad que Diego\")\n",
    "else:\n",
    "    print(\"Diego tiene más edad que Aitor\")"
   ]
  },
  {
   "cell_type": "code",
   "execution_count": 4,
   "id": "08f3a809",
   "metadata": {},
   "outputs": [
    {
     "name": "stdout",
     "output_type": "stream",
     "text": [
      "[1 2 3]\n",
      "[[1 2 3]\n",
      " [4 5 6]]\n",
      "[[[ 1  2  3]\n",
      "  [ 4  5  6]]\n",
      "\n",
      " [[ 7  8  9]\n",
      "  [10 11 12]]]\n"
     ]
    }
   ],
   "source": [
    "# Array de una dimensión\n",
    "a1 = np.array([1, 2, 3])\n",
    "print(a1)\n",
    "# Array de dos dimensiones\n",
    "a2 = np.array([[1, 2, 3], [4, 5, 6]])\n",
    "print(a2)\n",
    "# Array de tres dimensiones\n",
    "a3 = np.array([[[1, 2, 3], [4, 5, 6]], [[7, 8, 9], [10, 11, 12]]])\n",
    "print(a3)"
   ]
  },
  {
   "cell_type": "code",
   "execution_count": null,
   "id": "f4a1efde",
   "metadata": {},
   "outputs": [],
   "source": []
  },
  {
   "cell_type": "code",
   "execution_count": null,
   "id": "db8495a6",
   "metadata": {},
   "outputs": [],
   "source": []
  },
  {
   "cell_type": "code",
   "execution_count": null,
   "id": "da3ea9ac",
   "metadata": {},
   "outputs": [],
   "source": []
  }
 ],
 "metadata": {
  "kernelspec": {
   "display_name": "Python 3 (ipykernel)",
   "language": "python",
   "name": "python3"
  },
  "language_info": {
   "codemirror_mode": {
    "name": "ipython",
    "version": 3
   },
   "file_extension": ".py",
   "mimetype": "text/x-python",
   "name": "python",
   "nbconvert_exporter": "python",
   "pygments_lexer": "ipython3",
   "version": "3.10.0"
  }
 },
 "nbformat": 4,
 "nbformat_minor": 5
}
