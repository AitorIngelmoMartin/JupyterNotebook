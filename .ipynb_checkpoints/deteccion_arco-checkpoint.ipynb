{
 "cells": [
  {
   "cell_type": "markdown",
   "id": "52186a52",
   "metadata": {},
   "source": [
    "# Introduccion"
   ]
  },
  {
   "cell_type": "code",
   "execution_count": 1,
   "id": "7e4f1857",
   "metadata": {},
   "outputs": [],
   "source": [
    "import cv2\n",
    "import numpy as np\n",
    "import os"
   ]
  },
  {
   "cell_type": "markdown",
   "id": "2f574bff",
   "metadata": {},
   "source": [
    "Lo primero es saber cuales de los archivos del directorio tienen la extensión que necesitamos.  \n",
    "Como las fotos son \".jpg\" voy a buscar esas en concreto."
   ]
  },
  {
   "cell_type": "code",
   "execution_count": 3,
   "id": "09f72101",
   "metadata": {},
   "outputs": [
    {
     "name": "stdout",
     "output_type": "stream",
     "text": [
      "['C:\\\\Users\\\\aitor\\\\OneDrive\\\\Desktop\\\\JupyterNotebook\\\\negro_absoluto.jpg', 'C:\\\\Users\\\\aitor\\\\OneDrive\\\\Desktop\\\\JupyterNotebook\\\\Video1IMG_003334.jpg', 'C:\\\\Users\\\\aitor\\\\OneDrive\\\\Desktop\\\\JupyterNotebook\\\\Video1IMG_003335.jpg', 'C:\\\\Users\\\\aitor\\\\OneDrive\\\\Desktop\\\\JupyterNotebook\\\\Video1IMG_003336.jpg', 'C:\\\\Users\\\\aitor\\\\OneDrive\\\\Desktop\\\\JupyterNotebook\\\\Video1IMG_003337.jpg', 'C:\\\\Users\\\\aitor\\\\OneDrive\\\\Desktop\\\\JupyterNotebook\\\\Video1IMG_003338.jpg', 'C:\\\\Users\\\\aitor\\\\OneDrive\\\\Desktop\\\\JupyterNotebook\\\\Video1IMG_003339.jpg', 'C:\\\\Users\\\\aitor\\\\OneDrive\\\\Desktop\\\\JupyterNotebook\\\\Video1IMG_003340.jpg', 'C:\\\\Users\\\\aitor\\\\OneDrive\\\\Desktop\\\\JupyterNotebook\\\\Video1IMG_003341.jpg', 'C:\\\\Users\\\\aitor\\\\OneDrive\\\\Desktop\\\\JupyterNotebook\\\\Video1IMG_003342.jpg', 'C:\\\\Users\\\\aitor\\\\OneDrive\\\\Desktop\\\\JupyterNotebook\\\\Video1IMG_003343.jpg', 'C:\\\\Users\\\\aitor\\\\OneDrive\\\\Desktop\\\\JupyterNotebook\\\\Video1IMG_003344.jpg', 'C:\\\\Users\\\\aitor\\\\OneDrive\\\\Desktop\\\\JupyterNotebook\\\\Video1IMG_003346.jpg', 'C:\\\\Users\\\\aitor\\\\OneDrive\\\\Desktop\\\\JupyterNotebook\\\\Video1IMG_003347.jpg', 'C:\\\\Users\\\\aitor\\\\OneDrive\\\\Desktop\\\\JupyterNotebook\\\\Video1IMG_003348.jpg', 'C:\\\\Users\\\\aitor\\\\OneDrive\\\\Desktop\\\\JupyterNotebook\\\\Video1IMG_003349.jpg', 'C:\\\\Users\\\\aitor\\\\OneDrive\\\\Desktop\\\\JupyterNotebook\\\\Video1IMG_003350.jpg', 'C:\\\\Users\\\\aitor\\\\OneDrive\\\\Desktop\\\\JupyterNotebook\\\\Video1IMG_003351.jpg', 'C:\\\\Users\\\\aitor\\\\OneDrive\\\\Desktop\\\\JupyterNotebook\\\\Video1IMG_003352.jpg', 'C:\\\\Users\\\\aitor\\\\OneDrive\\\\Desktop\\\\JupyterNotebook\\\\Video1IMG_003353.jpg', 'C:\\\\Users\\\\aitor\\\\OneDrive\\\\Desktop\\\\JupyterNotebook\\\\Video1IMG_003354.jpg', 'C:\\\\Users\\\\aitor\\\\OneDrive\\\\Desktop\\\\JupyterNotebook\\\\Video1IMG_003355.jpg', 'C:\\\\Users\\\\aitor\\\\OneDrive\\\\Desktop\\\\JupyterNotebook\\\\Video1IMG_003356.jpg', 'C:\\\\Users\\\\aitor\\\\OneDrive\\\\Desktop\\\\JupyterNotebook\\\\Video1IMG_003358.jpg', 'C:\\\\Users\\\\aitor\\\\OneDrive\\\\Desktop\\\\JupyterNotebook\\\\Video1IMG_003359.jpg', 'C:\\\\Users\\\\aitor\\\\OneDrive\\\\Desktop\\\\JupyterNotebook\\\\Video1IMG_003360.jpg', 'C:\\\\Users\\\\aitor\\\\OneDrive\\\\Desktop\\\\JupyterNotebook\\\\Video1IMG_003361.jpg', 'C:\\\\Users\\\\aitor\\\\OneDrive\\\\Desktop\\\\JupyterNotebook\\\\Video1IMG_003362.jpg', 'C:\\\\Users\\\\aitor\\\\OneDrive\\\\Desktop\\\\JupyterNotebook\\\\Video1IMG_003363.jpg', 'C:\\\\Users\\\\aitor\\\\OneDrive\\\\Desktop\\\\JupyterNotebook\\\\Video1IMG_003364.jpg', 'C:\\\\Users\\\\aitor\\\\OneDrive\\\\Desktop\\\\JupyterNotebook\\\\Video1IMG_003365.jpg', 'C:\\\\Users\\\\aitor\\\\OneDrive\\\\Desktop\\\\JupyterNotebook\\\\Video1IMG_003366.jpg', 'C:\\\\Users\\\\aitor\\\\OneDrive\\\\Desktop\\\\JupyterNotebook\\\\Video1IMG_003367.jpg', 'C:\\\\Users\\\\aitor\\\\OneDrive\\\\Desktop\\\\JupyterNotebook\\\\Video1IMG_003368.jpg', 'C:\\\\Users\\\\aitor\\\\OneDrive\\\\Desktop\\\\JupyterNotebook\\\\Video1IMG_009078.jpg', 'C:\\\\Users\\\\aitor\\\\OneDrive\\\\Desktop\\\\JupyterNotebook\\\\Video1IMG_009079.jpg', 'C:\\\\Users\\\\aitor\\\\OneDrive\\\\Desktop\\\\JupyterNotebook\\\\Video1IMG_009080.jpg', 'C:\\\\Users\\\\aitor\\\\OneDrive\\\\Desktop\\\\JupyterNotebook\\\\Video1IMG_009081.jpg', 'C:\\\\Users\\\\aitor\\\\OneDrive\\\\Desktop\\\\JupyterNotebook\\\\Video1IMG_009082.jpg', 'C:\\\\Users\\\\aitor\\\\OneDrive\\\\Desktop\\\\JupyterNotebook\\\\Video1IMG_009083.jpg', 'C:\\\\Users\\\\aitor\\\\OneDrive\\\\Desktop\\\\JupyterNotebook\\\\Video1IMG_009084.jpg', 'C:\\\\Users\\\\aitor\\\\OneDrive\\\\Desktop\\\\JupyterNotebook\\\\Video1IMG_009085.jpg', 'C:\\\\Users\\\\aitor\\\\OneDrive\\\\Desktop\\\\JupyterNotebook\\\\Video1IMG_009086.jpg', 'C:\\\\Users\\\\aitor\\\\OneDrive\\\\Desktop\\\\JupyterNotebook\\\\Video1IMG_009087.jpg', 'C:\\\\Users\\\\aitor\\\\OneDrive\\\\Desktop\\\\JupyterNotebook\\\\Video1IMG_009088.jpg', 'C:\\\\Users\\\\aitor\\\\OneDrive\\\\Desktop\\\\JupyterNotebook\\\\Video1IMG_009089.jpg', 'C:\\\\Users\\\\aitor\\\\OneDrive\\\\Desktop\\\\JupyterNotebook\\\\Video1IMG_009090.jpg', 'C:\\\\Users\\\\aitor\\\\OneDrive\\\\Desktop\\\\JupyterNotebook\\\\Video1IMG_009091.jpg', 'C:\\\\Users\\\\aitor\\\\OneDrive\\\\Desktop\\\\JupyterNotebook\\\\Video1IMG_009092.jpg', 'C:\\\\Users\\\\aitor\\\\OneDrive\\\\Desktop\\\\JupyterNotebook\\\\Video1IMG_009093.jpg', 'C:\\\\Users\\\\aitor\\\\OneDrive\\\\Desktop\\\\JupyterNotebook\\\\Video1IMG_009094.jpg', 'C:\\\\Users\\\\aitor\\\\OneDrive\\\\Desktop\\\\JupyterNotebook\\\\Video1IMG_009095.jpg', 'C:\\\\Users\\\\aitor\\\\OneDrive\\\\Desktop\\\\JupyterNotebook\\\\Video1IMG_009096.jpg', 'C:\\\\Users\\\\aitor\\\\OneDrive\\\\Desktop\\\\JupyterNotebook\\\\Video1IMG_009097.jpg', 'C:\\\\Users\\\\aitor\\\\OneDrive\\\\Desktop\\\\JupyterNotebook\\\\Video1IMG_009098.jpg', 'C:\\\\Users\\\\aitor\\\\OneDrive\\\\Desktop\\\\JupyterNotebook\\\\Video1IMG_009099.jpg', 'C:\\\\Users\\\\aitor\\\\OneDrive\\\\Desktop\\\\JupyterNotebook\\\\Video1IMG_009100.jpg', 'C:\\\\Users\\\\aitor\\\\OneDrive\\\\Desktop\\\\JupyterNotebook\\\\Video1IMG_009101.jpg', 'C:\\\\Users\\\\aitor\\\\OneDrive\\\\Desktop\\\\JupyterNotebook\\\\Video1IMG_009102.jpg', 'C:\\\\Users\\\\aitor\\\\OneDrive\\\\Desktop\\\\JupyterNotebook\\\\Video1IMG_009103.jpg', 'C:\\\\Users\\\\aitor\\\\OneDrive\\\\Desktop\\\\JupyterNotebook\\\\Video1IMG_009104.jpg', 'C:\\\\Users\\\\aitor\\\\OneDrive\\\\Desktop\\\\JupyterNotebook\\\\Video1IMG_009105.jpg', 'C:\\\\Users\\\\aitor\\\\OneDrive\\\\Desktop\\\\JupyterNotebook\\\\Video1IMG_009106.jpg', 'C:\\\\Users\\\\aitor\\\\OneDrive\\\\Desktop\\\\JupyterNotebook\\\\Video1IMG_009107.jpg', 'C:\\\\Users\\\\aitor\\\\OneDrive\\\\Desktop\\\\JupyterNotebook\\\\Video1IMG_009108.jpg', 'C:\\\\Users\\\\aitor\\\\OneDrive\\\\Desktop\\\\JupyterNotebook\\\\Video1IMG_009109.jpg', 'C:\\\\Users\\\\aitor\\\\OneDrive\\\\Desktop\\\\JupyterNotebook\\\\Video1IMG_009110.jpg', 'C:\\\\Users\\\\aitor\\\\OneDrive\\\\Desktop\\\\JupyterNotebook\\\\Video1IMG_009111.jpg', 'C:\\\\Users\\\\aitor\\\\OneDrive\\\\Desktop\\\\JupyterNotebook\\\\Video1IMG_009112.jpg', 'C:\\\\Users\\\\aitor\\\\OneDrive\\\\Desktop\\\\JupyterNotebook\\\\Video1IMG_009113.jpg', 'C:\\\\Users\\\\aitor\\\\OneDrive\\\\Desktop\\\\JupyterNotebook\\\\Video1IMG_009114.jpg', 'C:\\\\Users\\\\aitor\\\\OneDrive\\\\Desktop\\\\JupyterNotebook\\\\Video1IMG_009115.jpg', 'C:\\\\Users\\\\aitor\\\\OneDrive\\\\Desktop\\\\JupyterNotebook\\\\Video1IMG_009116.jpg', 'C:\\\\Users\\\\aitor\\\\OneDrive\\\\Desktop\\\\JupyterNotebook\\\\Video1IMG_009117.jpg', 'C:\\\\Users\\\\aitor\\\\OneDrive\\\\Desktop\\\\JupyterNotebook\\\\Video1IMG_009118.jpg', 'C:\\\\Users\\\\aitor\\\\OneDrive\\\\Desktop\\\\JupyterNotebook\\\\Video1IMG_009119.jpg', 'C:\\\\Users\\\\aitor\\\\OneDrive\\\\Desktop\\\\JupyterNotebook\\\\Video1IMG_009120.jpg', 'C:\\\\Users\\\\aitor\\\\OneDrive\\\\Desktop\\\\JupyterNotebook\\\\Video1IMG_009121.jpg', 'C:\\\\Users\\\\aitor\\\\OneDrive\\\\Desktop\\\\JupyterNotebook\\\\Video1IMG_009122.jpg', 'C:\\\\Users\\\\aitor\\\\OneDrive\\\\Desktop\\\\JupyterNotebook\\\\Video1IMG_009123.jpg', 'C:\\\\Users\\\\aitor\\\\OneDrive\\\\Desktop\\\\JupyterNotebook\\\\Video1IMG_009124.jpg', 'C:\\\\Users\\\\aitor\\\\OneDrive\\\\Desktop\\\\JupyterNotebook\\\\Video1IMG_009125.jpg', 'C:\\\\Users\\\\aitor\\\\OneDrive\\\\Desktop\\\\JupyterNotebook\\\\Video1IMG_009126.jpg', 'C:\\\\Users\\\\aitor\\\\OneDrive\\\\Desktop\\\\JupyterNotebook\\\\Video1IMG_009127.jpg', 'C:\\\\Users\\\\aitor\\\\OneDrive\\\\Desktop\\\\JupyterNotebook\\\\Video1IMG_009128.jpg', 'C:\\\\Users\\\\aitor\\\\OneDrive\\\\Desktop\\\\JupyterNotebook\\\\Video1IMG_009129.jpg', 'C:\\\\Users\\\\aitor\\\\OneDrive\\\\Desktop\\\\JupyterNotebook\\\\Video1IMG_009130.jpg', 'C:\\\\Users\\\\aitor\\\\OneDrive\\\\Desktop\\\\JupyterNotebook\\\\Video1IMG_009131.jpg', 'C:\\\\Users\\\\aitor\\\\OneDrive\\\\Desktop\\\\JupyterNotebook\\\\Video1IMG_009132.jpg', 'C:\\\\Users\\\\aitor\\\\OneDrive\\\\Desktop\\\\JupyterNotebook\\\\Video1IMG_009133.jpg', 'C:\\\\Users\\\\aitor\\\\OneDrive\\\\Desktop\\\\JupyterNotebook\\\\Video1IMG_009134.jpg', 'C:\\\\Users\\\\aitor\\\\OneDrive\\\\Desktop\\\\JupyterNotebook\\\\Video1IMG_009135.jpg', 'C:\\\\Users\\\\aitor\\\\OneDrive\\\\Desktop\\\\JupyterNotebook\\\\Video1IMG_009136.jpg', 'C:\\\\Users\\\\aitor\\\\OneDrive\\\\Desktop\\\\JupyterNotebook\\\\Video1IMG_009137.jpg', 'C:\\\\Users\\\\aitor\\\\OneDrive\\\\Desktop\\\\JupyterNotebook\\\\Video1IMG_009138.jpg', 'C:\\\\Users\\\\aitor\\\\OneDrive\\\\Desktop\\\\JupyterNotebook\\\\Video1IMG_009139.jpg', 'C:\\\\Users\\\\aitor\\\\OneDrive\\\\Desktop\\\\JupyterNotebook\\\\Video1IMG_009140.jpg', 'C:\\\\Users\\\\aitor\\\\OneDrive\\\\Desktop\\\\JupyterNotebook\\\\Video1IMG_009141.jpg', 'C:\\\\Users\\\\aitor\\\\OneDrive\\\\Desktop\\\\JupyterNotebook\\\\Video1IMG_009142.jpg', 'C:\\\\Users\\\\aitor\\\\OneDrive\\\\Desktop\\\\JupyterNotebook\\\\Video1IMG_009144.jpg', 'C:\\\\Users\\\\aitor\\\\OneDrive\\\\Desktop\\\\JupyterNotebook\\\\Video1IMG_009145.jpg', 'C:\\\\Users\\\\aitor\\\\OneDrive\\\\Desktop\\\\JupyterNotebook\\\\Video1IMG_009146.jpg', 'C:\\\\Users\\\\aitor\\\\OneDrive\\\\Desktop\\\\JupyterNotebook\\\\Video1IMG_009147.jpg', 'C:\\\\Users\\\\aitor\\\\OneDrive\\\\Desktop\\\\JupyterNotebook\\\\Video1IMG_009148.jpg', 'C:\\\\Users\\\\aitor\\\\OneDrive\\\\Desktop\\\\JupyterNotebook\\\\Video1IMG_009149.jpg', 'C:\\\\Users\\\\aitor\\\\OneDrive\\\\Desktop\\\\JupyterNotebook\\\\Video1IMG_009150.jpg', 'C:\\\\Users\\\\aitor\\\\OneDrive\\\\Desktop\\\\JupyterNotebook\\\\Video1IMG_009151.jpg', 'C:\\\\Users\\\\aitor\\\\OneDrive\\\\Desktop\\\\JupyterNotebook\\\\Video1IMG_009152.jpg', 'C:\\\\Users\\\\aitor\\\\OneDrive\\\\Desktop\\\\JupyterNotebook\\\\Video1IMG_009153.jpg', 'C:\\\\Users\\\\aitor\\\\OneDrive\\\\Desktop\\\\JupyterNotebook\\\\Video1IMG_009154.jpg', 'C:\\\\Users\\\\aitor\\\\OneDrive\\\\Desktop\\\\JupyterNotebook\\\\Video1IMG_009155.jpg', 'C:\\\\Users\\\\aitor\\\\OneDrive\\\\Desktop\\\\JupyterNotebook\\\\Video1IMG_009156.jpg', 'C:\\\\Users\\\\aitor\\\\OneDrive\\\\Desktop\\\\JupyterNotebook\\\\Video1IMG_009157.jpg', 'C:\\\\Users\\\\aitor\\\\OneDrive\\\\Desktop\\\\JupyterNotebook\\\\Video1IMG_009158.jpg', 'C:\\\\Users\\\\aitor\\\\OneDrive\\\\Desktop\\\\JupyterNotebook\\\\Video1IMG_009159.jpg', 'C:\\\\Users\\\\aitor\\\\OneDrive\\\\Desktop\\\\JupyterNotebook\\\\Video1IMG_009160.jpg', 'C:\\\\Users\\\\aitor\\\\OneDrive\\\\Desktop\\\\JupyterNotebook\\\\Video1IMG_009161.jpg', 'C:\\\\Users\\\\aitor\\\\OneDrive\\\\Desktop\\\\JupyterNotebook\\\\Video1IMG_009162.jpg', 'C:\\\\Users\\\\aitor\\\\OneDrive\\\\Desktop\\\\JupyterNotebook\\\\Video1IMG_009163.jpg', 'C:\\\\Users\\\\aitor\\\\OneDrive\\\\Desktop\\\\JupyterNotebook\\\\Video1IMG_009164.jpg', 'C:\\\\Users\\\\aitor\\\\OneDrive\\\\Desktop\\\\JupyterNotebook\\\\Video1IMG_009165.jpg', 'C:\\\\Users\\\\aitor\\\\OneDrive\\\\Desktop\\\\JupyterNotebook\\\\Video1IMG_009166.jpg', 'C:\\\\Users\\\\aitor\\\\OneDrive\\\\Desktop\\\\JupyterNotebook\\\\Video1IMG_009167.jpg', 'C:\\\\Users\\\\aitor\\\\OneDrive\\\\Desktop\\\\JupyterNotebook\\\\Video1IMG_009168.jpg', 'C:\\\\Users\\\\aitor\\\\OneDrive\\\\Desktop\\\\JupyterNotebook\\\\Video1IMG_009169.jpg', 'C:\\\\Users\\\\aitor\\\\OneDrive\\\\Desktop\\\\JupyterNotebook\\\\Video1IMG_009170.jpg', 'C:\\\\Users\\\\aitor\\\\OneDrive\\\\Desktop\\\\JupyterNotebook\\\\Video1IMG_009171.jpg', 'C:\\\\Users\\\\aitor\\\\OneDrive\\\\Desktop\\\\JupyterNotebook\\\\Video1IMG_009172.jpg', 'C:\\\\Users\\\\aitor\\\\OneDrive\\\\Desktop\\\\JupyterNotebook\\\\Video1IMG_009173.jpg', 'C:\\\\Users\\\\aitor\\\\OneDrive\\\\Desktop\\\\JupyterNotebook\\\\Video1IMG_009174.jpg', 'C:\\\\Users\\\\aitor\\\\OneDrive\\\\Desktop\\\\JupyterNotebook\\\\Video1IMG_009175.jpg', 'C:\\\\Users\\\\aitor\\\\OneDrive\\\\Desktop\\\\JupyterNotebook\\\\Video1IMG_009176.jpg', 'C:\\\\Users\\\\aitor\\\\OneDrive\\\\Desktop\\\\JupyterNotebook\\\\Video1IMG_009177.jpg', 'C:\\\\Users\\\\aitor\\\\OneDrive\\\\Desktop\\\\JupyterNotebook\\\\Video1IMG_009178.jpg', 'C:\\\\Users\\\\aitor\\\\OneDrive\\\\Desktop\\\\JupyterNotebook\\\\Video1IMG_009179.jpg', 'C:\\\\Users\\\\aitor\\\\OneDrive\\\\Desktop\\\\JupyterNotebook\\\\Video1IMG_009180.jpg', 'C:\\\\Users\\\\aitor\\\\OneDrive\\\\Desktop\\\\JupyterNotebook\\\\Video1IMG_009181.jpg', 'C:\\\\Users\\\\aitor\\\\OneDrive\\\\Desktop\\\\JupyterNotebook\\\\Video1IMG_009182.jpg', 'C:\\\\Users\\\\aitor\\\\OneDrive\\\\Desktop\\\\JupyterNotebook\\\\Video1IMG_009183.jpg', 'C:\\\\Users\\\\aitor\\\\OneDrive\\\\Desktop\\\\JupyterNotebook\\\\Video1IMG_009184.jpg', 'C:\\\\Users\\\\aitor\\\\OneDrive\\\\Desktop\\\\JupyterNotebook\\\\Video1IMG_009185.jpg', 'C:\\\\Users\\\\aitor\\\\OneDrive\\\\Desktop\\\\JupyterNotebook\\\\Video1IMG_009186.jpg', 'C:\\\\Users\\\\aitor\\\\OneDrive\\\\Desktop\\\\JupyterNotebook\\\\Video1IMG_009187.jpg', 'C:\\\\Users\\\\aitor\\\\OneDrive\\\\Desktop\\\\JupyterNotebook\\\\Video1IMG_009188.jpg', 'C:\\\\Users\\\\aitor\\\\OneDrive\\\\Desktop\\\\JupyterNotebook\\\\Video1IMG_009189.jpg', 'C:\\\\Users\\\\aitor\\\\OneDrive\\\\Desktop\\\\JupyterNotebook\\\\Video1IMG_009190.jpg', 'C:\\\\Users\\\\aitor\\\\OneDrive\\\\Desktop\\\\JupyterNotebook\\\\Video1IMG_009191.jpg', 'C:\\\\Users\\\\aitor\\\\OneDrive\\\\Desktop\\\\JupyterNotebook\\\\Video1IMG_009192.jpg', 'C:\\\\Users\\\\aitor\\\\OneDrive\\\\Desktop\\\\JupyterNotebook\\\\Video1IMG_009193.jpg', 'C:\\\\Users\\\\aitor\\\\OneDrive\\\\Desktop\\\\JupyterNotebook\\\\Video1IMG_009194.jpg', 'C:\\\\Users\\\\aitor\\\\OneDrive\\\\Desktop\\\\JupyterNotebook\\\\Video1IMG_009195.jpg', 'C:\\\\Users\\\\aitor\\\\OneDrive\\\\Desktop\\\\JupyterNotebook\\\\Video1IMG_009196.jpg', 'C:\\\\Users\\\\aitor\\\\OneDrive\\\\Desktop\\\\JupyterNotebook\\\\Video1IMG_009197.jpg', 'C:\\\\Users\\\\aitor\\\\OneDrive\\\\Desktop\\\\JupyterNotebook\\\\Video1IMG_009198.jpg', 'C:\\\\Users\\\\aitor\\\\OneDrive\\\\Desktop\\\\JupyterNotebook\\\\Video1IMG_009199.jpg', 'C:\\\\Users\\\\aitor\\\\OneDrive\\\\Desktop\\\\JupyterNotebook\\\\Video1IMG_009200.jpg', 'C:\\\\Users\\\\aitor\\\\OneDrive\\\\Desktop\\\\JupyterNotebook\\\\Video1IMG_009201.jpg', 'C:\\\\Users\\\\aitor\\\\OneDrive\\\\Desktop\\\\JupyterNotebook\\\\Video1IMG_009202.jpg', 'C:\\\\Users\\\\aitor\\\\OneDrive\\\\Desktop\\\\JupyterNotebook\\\\Video1IMG_009203.jpg', 'C:\\\\Users\\\\aitor\\\\OneDrive\\\\Desktop\\\\JupyterNotebook\\\\Video1IMG_009204.jpg', 'C:\\\\Users\\\\aitor\\\\OneDrive\\\\Desktop\\\\JupyterNotebook\\\\Video1IMG_009205.jpg', 'C:\\\\Users\\\\aitor\\\\OneDrive\\\\Desktop\\\\JupyterNotebook\\\\Video1IMG_009206.jpg', 'C:\\\\Users\\\\aitor\\\\OneDrive\\\\Desktop\\\\JupyterNotebook\\\\Video1IMG_009207.jpg', 'C:\\\\Users\\\\aitor\\\\OneDrive\\\\Desktop\\\\JupyterNotebook\\\\Video1IMG_009208.jpg', 'C:\\\\Users\\\\aitor\\\\OneDrive\\\\Desktop\\\\JupyterNotebook\\\\Video1IMG_009209.jpg', 'C:\\\\Users\\\\aitor\\\\OneDrive\\\\Desktop\\\\JupyterNotebook\\\\Video1IMG_009210.jpg', 'C:\\\\Users\\\\aitor\\\\OneDrive\\\\Desktop\\\\JupyterNotebook\\\\Video1IMG_009211.jpg', 'C:\\\\Users\\\\aitor\\\\OneDrive\\\\Desktop\\\\JupyterNotebook\\\\Video1IMG_009212.jpg']\n"
     ]
    }
   ],
   "source": [
    "\n",
    "\n",
    "ruta_imagenes        = \"F:\\PROGRAMAS\\Python\\Victor\\imagenes\"\n",
    "formato_imagenes     =\".jpg\"\n",
    "contenido_directorio = os.listdir(ruta_imagenes)\n",
    "\n",
    "imagenes = []\n",
    "\n",
    "\n",
    "#Este bucle comprueba uno a uno los archivos, y guarda en \"imagenes\" las que tengan extension .jpg\n",
    "for fichero in contenido_directorio:\n",
    "    if os.path.isfile(os.path.join(ruta_imagenes, fichero)) and fichero.endswith(formato_imagenes):\n",
    "        imagenes.append(os.path.abspath(fichero))\n",
    "\n",
    "print(imagenes)               \n",
    "\n",
    "#print(\"hola\")\n",
    "\n",
    "#imagen_a_comparar = cv2.imread(\"ruta\",cv2.IMREAD_UNCHANGED)"
   ]
  },
  {
   "cell_type": "code",
   "execution_count": null,
   "id": "850b9cb7",
   "metadata": {},
   "outputs": [],
   "source": []
  }
 ],
 "metadata": {
  "kernelspec": {
   "display_name": "Python 3 (ipykernel)",
   "language": "python",
   "name": "python3"
  },
  "language_info": {
   "codemirror_mode": {
    "name": "ipython",
    "version": 3
   },
   "file_extension": ".py",
   "mimetype": "text/x-python",
   "name": "python",
   "nbconvert_exporter": "python",
   "pygments_lexer": "ipython3",
   "version": "3.10.0"
  }
 },
 "nbformat": 4,
 "nbformat_minor": 5
}
