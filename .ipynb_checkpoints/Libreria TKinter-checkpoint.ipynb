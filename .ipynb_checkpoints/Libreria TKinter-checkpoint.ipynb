{
 "cells": [
  {
   "cell_type": "markdown",
   "id": "39e64b63",
   "metadata": {},
   "source": [
    "# **¿Qué es este Notebook?**\n",
    "Este notebook va a recojer toda la información recabada a partir de la documentación oficial, libros y diversos materiales digitales con el fin de entender la libraría TKInter.\n",
    "\n",
    "## Objetivos para este Notebook\n",
    "    - Hacer un formulario con gestión de datos.\n",
    "    - Hacer una aplicacion de escritorio para el control de gastos.\n",
    "    - Hacer el esqueleto de una aplicacion basada en el juego \"Yo nunca\"."
   ]
  },
  {
   "cell_type": "markdown",
   "id": "328a49e3",
   "metadata": {},
   "source": [
    "#### Explicacion esqueleto TKinter\n",
    "\n",
    "- Para crear una interfaz, debemos importar la librería tkinter completa (con el \"*\"), y el recurso ttk.\n",
    "        from tkinter import *\n",
    "        from tkinter import ttk"
   ]
  },
  {
   "cell_type": "code",
   "execution_count": 5,
   "id": "63db604e",
   "metadata": {},
   "outputs": [],
   "source": [
    "from tkinter import *\n",
    "from tkinter import ttk"
   ]
  },
  {
   "cell_type": "code",
   "execution_count": null,
   "id": "38dba5dc",
   "metadata": {},
   "outputs": [],
   "source": [
    "root = Tk()\n",
    "frm  = ttk.Frame(root, padding=10)\n",
    "frm.grid()\n",
    "ttk.Label(frm, text  =\"Hello World!\").grid(column=0, row=0)\n",
    "ttk.Button(frm, text =\"Quit\", command=root.destroy).grid(column=1, row=0)\n",
    "root.mainloop()"
   ]
  },
  {
   "cell_type": "markdown",
   "id": "6126e07a",
   "metadata": {},
   "source": [
    "Después de las declaraciones de import, lo siguiente es crear la instancia de la clase Tk la cual iniciativa Tk y crea el interprete asociado a Tcl. Esto también crea una ventana de nivel superior conocida como \"ventana raíz\". Esta ventana sirve como la ventana principal de la aplicación.\n",
    "\n",
    "        root = Tk()\n",
    "\n",
    "En la siguiente línea se crea el marco del widget. En este caso contiene la etiqueta y un botón que crearemos después. El marco encaja dentro de la ventana raíz.\n",
    "\n",
    "        frm  = ttk.Frame(root, padding=10)\n",
    "        \n",
    "La próxima línea crea una etiqueta para el widget que contiene una cadena de texto estática. El método grid() es usado para especificar la posición del diseño de la etiqueta que está dentro del marco del widget, similar a como trabajan las tablas en HTML.\n",
    "\n",
    "Es entonces cuando el botón del widget es creado y dejado a la derecha de la etiqueta. Una vez pulsado llamará al método destroy() de la ventana raíz.\n",
    "\n",
    "Finalmente el método mainloop() muestra todo en pantalla y responde a la entrada del usuario hasta que el programa termina."
   ]
  },
  {
   "cell_type": "code",
   "execution_count": null,
   "id": "e897569a",
   "metadata": {},
   "outputs": [],
   "source": []
  },
  {
   "cell_type": "markdown",
   "id": "d985ab5f",
   "metadata": {},
   "source": [
    "### Botones\n",
    "- TKinter permite generar botones invocando al método \"Button\".\n",
    "            \n",
    "      nombre_boton = Button(nombre_ventana, text = \"texto del boton\")\n",
    "                \n",
    "- Los botones pueden tener un \"estado\". Esto nos permite dar atributos a los botones, de tal forma que por ejemplo podemos decirles si estan o no activados.   \n",
    "\n",
    "      nombre_boton = Button(nombre_ventana, text = \"texto del boton\", state = \"estado\")\n",
    " \n",
    "- Los botones pueden tomar distintos tamaños establecidos por nosotros. Esto podemos hacerlo mediante el uso de \"padx = numero_eje_x, pady = _numero_eje_y\"\n",
    "- Podemos cambiar el color de la letra con el comando \" fg = \"color\" \". Donde el color va escrito, aunque tambien puede ir en hexadecimal. Tambien podemos colorear todo el boton con el comando \" bg = \"color\" \"\n",
    " \n",
    " ##### Comandos\n",
    " - Podemos darle comandos a nuestros botones con el atributo \"command=funcion_deseada\""
   ]
  },
  {
   "cell_type": "code",
   "execution_count": 17,
   "id": "d2cfb7f8",
   "metadata": {},
   "outputs": [],
   "source": [
    "ventana = Tk()\n",
    "\n",
    "def saludo():\n",
    "    label = Label(ventana,text = \"Saludo mandado\")\n",
    "    label.pack()\n",
    "\n",
    "boton_saludo = Button(ventana, text=\"Te saludo\", command = saludo)\n",
    "boton_saludo.pack()\n",
    "\n",
    "boton_desactivado = Button(ventana, text=\"Este boton no funciona\", state =DISABLED)\n",
    "boton_desactivado.pack()\n",
    "\n",
    "boton_espaciado = Button(ventana, text=\"Tengo un pading en x de 50 e y de 25\", padx = 50, pady = 25)\n",
    "boton_espaciado.pack()\n",
    "\n",
    "root.mainloop()"
   ]
  },
  {
   "cell_type": "markdown",
   "id": "0ea7b09f",
   "metadata": {},
   "source": [
    "### Campos (inputs)\n",
    "- Podemos declarar campos de entrada como:\n",
    "\n",
    "            variable_campo = Entry(ventana, width = \"numero\")\n",
    "- Estos campos de entrada pueden tener escritos su proposito mediante la función \"insert(0,\"texto del campo\")\"            "
   ]
  },
  {
   "cell_type": "code",
   "execution_count": 8,
   "id": "0403d393",
   "metadata": {},
   "outputs": [],
   "source": [
    "ventana_campo = Tk()\n",
    "\n",
    "campo_nombre = Entry(ventana_campo, width = 50)\n",
    "campo_nombre.pack()\n",
    "campo_nombre.insert(0,\"Escribe un nombre\")\n",
    "\n",
    "def mandar_nombre():\n",
    "    saludo = \"Bienvenido \"+campo_nombre.get()\n",
    "    etiqueta = Label(ventana_campo, text = saludo)\n",
    "    etiqueta.pack()\n",
    "    \n",
    "boton_nombre = Button(ventana_campo,text = \"Introduce un nombre\", command = mandar_nombre)\n",
    "boton_nombre.pack()\n",
    "\n",
    "boton_salir = Button(ventana_campo,text=\"Exit\", command = ventana_campo.destroy)\n",
    "boton_salir.pack()\n",
    "\n",
    "ventana_campo.mainloop()\n",
    "     "
   ]
  },
  {
   "cell_type": "code",
   "execution_count": null,
   "id": "c9366593",
   "metadata": {},
   "outputs": [],
   "source": []
  },
  {
   "cell_type": "code",
   "execution_count": 11,
   "id": "1dcca457",
   "metadata": {},
   "outputs": [],
   "source": [
    "from tkinter import *\n",
    "from PIL import ImageTk,Image\n",
    "\n",
    "root = Tk()\n",
    "\n",
    "TOPPINGS = [\n",
    "    (\"Pepperoni\", \"Pepperoni\"),\n",
    "    (\"Cheese\", \"Cheese\"),\n",
    "    (\"Mushroom\", \"Mushroom\"),\n",
    "    (\"Onion\", \"Onion\"),\n",
    "]\n",
    "\n",
    "pizza = StringVar()\n",
    "pizza.set(\"Pepperoni\")\n",
    "\n",
    "for text, topping in TOPPINGS:\n",
    "    Radiobutton(root, text=text, variable=pizza, value=topping).pack(anchor=W)\n",
    "\n",
    "\n",
    "def clicked(value):\n",
    "    myLabel = Label(root, text=value)\n",
    "    myLabel.pack()\n",
    "\n",
    "#Radiobutton(root, text=\"Option 1\", variable=r, value=1, command=lambda: clicked(r.get())).pack()\n",
    "#Radiobutton(root, text=\"Option 2\", variable=r, value=2, command=lambda: clicked(r.get())).pack()\n",
    "\n",
    "#myLabel = Label(root, text=pizza.get())\n",
    "#myLabel.pack()\n",
    "\n",
    "myButton = Button(root, text=\"Click Me!\", command=lambda: clicked(pizza.get()))\n",
    "myButton.pack()\n",
    "mainloop()"
   ]
  },
  {
   "cell_type": "markdown",
   "id": "b6720044",
   "metadata": {},
   "source": [
    "# Aplicacion\n",
    "Para poder hacer interfaces, usamos la librería Tinker.\n",
    "- resizable(): Es una funcion que admite dos valores boleanos. Nos permite elegir si el ancho, el alto, o ambos se pueden cambiar (True) o no (False.)\n",
    " #### Icono\n",
    "     - Podemos cambiar iconos con la funcion iconbitmap() si le paso por parámetro la dirección y nombre del archivo en formato .ico"
   ]
  },
  {
   "cell_type": "code",
   "execution_count": 14,
   "id": "6118f3c0",
   "metadata": {},
   "outputs": [],
   "source": [
    "raiz =Tk()\n",
    "altura_pantalla  = raiz.winfo_screenheight()\n",
    "anchura_pantalla = raiz.winfo_screenwidth()\n",
    "raiz.title(\"Ventana de prueba\")\n",
    "\n",
    "# El primer numero es width y el segundo heigt. Son valores booleanos. En 0 implica que no se puedan cambiar las dimensiones\n",
    "raiz.resizable(True,True)\n",
    "\n",
    "def centrar(r): # Esta funcion centra la pantalla\n",
    "    altura  = r.winfo_reqheight()\n",
    "    anchura = r.winfo_reqwidth()\n",
    "    \n",
    "    x = (anchura_pantalla // 2) - (anchura//2)\n",
    "    y = (altura_pantalla//2) - (altura//2)\n",
    "    r.geometry(f\"+{x}+{y}\")\n",
    "centrar(raiz)\n",
    "\n",
    "\n",
    "raiz.mainloop()"
   ]
  },
  {
   "cell_type": "code",
   "execution_count": null,
   "id": "0fb951e9",
   "metadata": {},
   "outputs": [],
   "source": []
  }
 ],
 "metadata": {
  "kernelspec": {
   "display_name": "Python 3 (ipykernel)",
   "language": "python",
   "name": "python3"
  },
  "language_info": {
   "codemirror_mode": {
    "name": "ipython",
    "version": 3
   },
   "file_extension": ".py",
   "mimetype": "text/x-python",
   "name": "python",
   "nbconvert_exporter": "python",
   "pygments_lexer": "ipython3",
   "version": "3.10.0"
  }
 },
 "nbformat": 4,
 "nbformat_minor": 5
}
