{
 "cells": [
  {
   "cell_type": "markdown",
   "metadata": {},
   "source": [
    "# Machine Learning Foundation\n",
    "\n",
    "## Section 1, Part a: Reading Data\n"
   ]
  },
  {
   "cell_type": "markdown",
   "metadata": {},
   "source": [
    "### Learning Objective(s)\n",
    "\n",
    "*   Create a SQL database connection to a sample SQL database, and read records from that database\n",
    "*   Explore common input parameters\n",
    "\n",
    "### Packages\n",
    "\n",
    "*   [Pandas](https://pandas.pydata.org/pandas-docs/stable/?utm_medium=Exinfluencer&utm_source=Exinfluencer&utm_content=000026UJ&utm_term=10006555&utm_id=NA-SkillsNetwork-Channel-SkillsNetworkCoursesIBMML0232ENSkillsNetwork30654641-2022-01-01)\n",
    "*   [Pandas.read_sql](https://pandas.pydata.org/pandas-docs/stable/reference/api/pandas.read_sql.html?utm_medium=Exinfluencer&utm_source=Exinfluencer&utm_content=000026UJ&utm_term=10006555&utm_id=NA-SkillsNetwork-Channel-SkillsNetworkCoursesIBMML0232ENSkillsNetwork30654641-2022-01-01)\n",
    "*   [SQLite3](https://docs.python.org/3.6/library/sqlite3.html?utm_medium=Exinfluencer&utm_source=Exinfluencer&utm_content=000026UJ&utm_term=10006555&utm_id=NA-SkillsNetwork-Channel-SkillsNetworkCoursesIBMML0232ENSkillsNetwork30654641-2022-01-01)\n"
   ]
  },
  {
   "cell_type": "markdown",
   "metadata": {},
   "source": [
    "## Simple data reads\n",
    "\n",
    "Structured Query Language (SQL) is an [ANSI specification](https://docs.oracle.com/database/121/SQLRF/ap_standard_sql001.htm?utm_medium=Exinfluencer&utm_source=Exinfluencer&utm_content=000026UJ&utm_term=10006555&utm_id=NA-SkillsNetwork-Channel-SkillsNetworkCoursesIBMML0232ENSkillsNetwork30654641-2022-01-01#SQLRF55514), implemented by various databases. SQL is a powerful format for interacting with large databases efficiently, and SQL allows for a consistent experience across a large market of databases. We'll be using sqlite, a lightweight and somewhat restricted version of sql for this example. sqlite uses a slightly modified version of SQL, which may be different than what you're used to.\n"
   ]
  },
  {
   "cell_type": "code",
   "execution_count": 1,
   "metadata": {},
   "outputs": [],
   "source": [
    "# Imports\n",
    "import sqlite3 as sq3\n",
    "import pandas.io.sql as pds\n",
    "import pandas as pd"
   ]
  },
  {
   "cell_type": "markdown",
   "metadata": {},
   "source": [
    "### Database connections\n",
    "\n",
    "Our first step will be to create a connection to our SQL database. A few common SQL databases used with Python include:\n",
    "\n",
    "*   Microsoft SQL Server\n",
    "*   Postgres\n",
    "*   MySQL\n",
    "*   AWS Redshift\n",
    "*   AWS Aurora\n",
    "*   Oracle DB\n",
    "*   Terradata\n",
    "*   Db2 Family\n",
    "*   Many, many others\n",
    "\n",
    "Each of these databases will require a slightly different setup, and may require credentials (username & password), tokens, or other access requirements. We'll be using `sqlite3` to connect to our database, but other connection packages include:\n",
    "\n",
    "*   [`SQLAlchemy`](https://www.sqlalchemy.org/?utm_medium=Exinfluencer&utm_source=Exinfluencer&utm_content=000026UJ&utm_term=10006555&utm_id=NA-SkillsNetwork-Channel-SkillsNetworkCoursesIBMML0232ENSkillsNetwork30654641-2022-01-01) (most common)\n",
    "*   [`psycopg2`](http://initd.org/psycopg/?utm_medium=Exinfluencer&utm_source=Exinfluencer&utm_content=000026UJ&utm_term=10006555&utm_id=NA-SkillsNetwork-Channel-SkillsNetworkCoursesIBMML0232ENSkillsNetwork30654641-2022-01-01)\n",
    "*   [`MySQLdb`](http://mysql-python.sourceforge.net/MySQLdb.html?utm_medium=Exinfluencer&utm_source=Exinfluencer&utm_content=000026UJ&utm_term=10006555&utm_id=NA-SkillsNetwork-Channel-SkillsNetworkCoursesIBMML0232ENSkillsNetwork30654641-2022-01-01)\n"
   ]
  },
  {
   "cell_type": "code",
   "execution_count": 4,
   "metadata": {},
   "outputs": [
    {
     "name": "stderr",
     "output_type": "stream",
     "text": [
      "Connecting to cf-courses-data.s3.us.cloud-object-storage.appdomain.cloud (169.63.118.104:443)\n",
      "ssl_client: got bad TLS record (len:337) while expecting certificate\n",
      " 16 03 03 01 51 0c 00 01 49 03 00 17 41 04 36 a4 bf 2b 49 d3 ba 4f a4 6a 5a ed af c5 7d 15 db 1f 76 29 cc cd 52 c2 38 f5 4d e8 5b b8 2c 4c 2f e9 65 a2 20 c1 91 0a 79 6b 10 20 75 27 95 d9 38 81 65 f1 9a 75 dc de 7d 33 58 91 06 d2 2f 3e 02 01 01 00 60 86 e0 de a3 e2 26 be 8c a9 4e dd 1b ab 19 48 49\n",
      "wget: error getting response\n"
     ]
    }
   ],
   "source": [
    "# Download the database\n",
    "!wget -P data https://cf-courses-data.s3.us.cloud-object-storage.appdomain.cloud/IBM-ML0232EN-SkillsNetwork/asset/classic_rock.db"
   ]
  },
  {
   "cell_type": "code",
   "execution_count": 3,
   "metadata": {},
   "outputs": [
    {
     "ename": "OperationalError",
     "evalue": "unable to open database file",
     "output_type": "error",
     "traceback": [
      "\u001b[1;31m---------------------------------------------------------------------------\u001b[0m",
      "\u001b[1;31mOperationalError\u001b[0m                          Traceback (most recent call last)",
      "Input \u001b[1;32mIn [3]\u001b[0m, in \u001b[0;36m<cell line: 3>\u001b[1;34m()\u001b[0m\n\u001b[0;32m      1\u001b[0m \u001b[38;5;66;03m# Initialize path to SQLite databasejdbc:sqlite:/C:/__tmp/test/sqlite/jdbcTest.db\u001b[39;00m\n\u001b[0;32m      2\u001b[0m path \u001b[38;5;241m=\u001b[39m \u001b[38;5;124m'\u001b[39m\u001b[38;5;124mdata/classic_rock.db\u001b[39m\u001b[38;5;124m'\u001b[39m\n\u001b[1;32m----> 3\u001b[0m con \u001b[38;5;241m=\u001b[39m \u001b[43msq3\u001b[49m\u001b[38;5;241;43m.\u001b[39;49m\u001b[43mConnection\u001b[49m\u001b[43m(\u001b[49m\u001b[43mpath\u001b[49m\u001b[43m)\u001b[49m\n",
      "\u001b[1;31mOperationalError\u001b[0m: unable to open database file"
     ]
    }
   ],
   "source": [
    "# Initialize path to SQLite databasejdbc:sqlite:/C:/__tmp/test/sqlite/jdbcTest.db\n",
    "path = 'data/classic_rock.db'\n",
    "con = sq3.Connection(path)\n",
    "\n",
    "# We now have a live connection to our SQL database"
   ]
  },
  {
   "cell_type": "code",
   "execution_count": null,
   "metadata": {},
   "outputs": [],
   "source": [
    "con"
   ]
  },
  {
   "cell_type": "markdown",
   "metadata": {},
   "source": [
    "### Reading data\n",
    "\n",
    "Now that we've got a connection to our database, we can perform queries, and load their results in as Pandas DataFrames\n"
   ]
  },
  {
   "cell_type": "code",
   "execution_count": 5,
   "metadata": {},
   "outputs": [
    {
     "ename": "NameError",
     "evalue": "name 'con' is not defined",
     "output_type": "error",
     "traceback": [
      "\u001b[1;31m---------------------------------------------------------------------------\u001b[0m",
      "\u001b[1;31mNameError\u001b[0m                                 Traceback (most recent call last)",
      "Input \u001b[1;32mIn [5]\u001b[0m, in \u001b[0;36m<cell line: 8>\u001b[1;34m()\u001b[0m\n\u001b[0;32m      2\u001b[0m query \u001b[38;5;241m=\u001b[39m \u001b[38;5;124m'''\u001b[39m\n\u001b[0;32m      3\u001b[0m \u001b[38;5;124mSELECT * \u001b[39m\n\u001b[0;32m      4\u001b[0m \u001b[38;5;124mFROM rock_songs;\u001b[39m\n\u001b[0;32m      5\u001b[0m \u001b[38;5;124m'''\u001b[39m\n\u001b[0;32m      7\u001b[0m \u001b[38;5;66;03m# Execute the query\u001b[39;00m\n\u001b[1;32m----> 8\u001b[0m observations \u001b[38;5;241m=\u001b[39m pds\u001b[38;5;241m.\u001b[39mread_sql(query, \u001b[43mcon\u001b[49m)\n\u001b[0;32m     10\u001b[0m observations\u001b[38;5;241m.\u001b[39mhead()\n",
      "\u001b[1;31mNameError\u001b[0m: name 'con' is not defined"
     ]
    }
   ],
   "source": [
    "# Write the query\n",
    "query = '''\n",
    "SELECT * \n",
    "FROM rock_songs;\n",
    "'''\n",
    "\n",
    "# Execute the query\n",
    "observations = pds.read_sql(query, con)\n",
    "\n",
    "observations.head()"
   ]
  },
  {
   "cell_type": "code",
   "execution_count": null,
   "metadata": {},
   "outputs": [],
   "source": [
    "# We can also run any supported SQL query\n",
    "# Write the query\n",
    "query = '''\n",
    "SELECT Artist, Release_Year, COUNT(*) AS num_songs, AVG(PlayCount) AS avg_plays  \n",
    "    FROM rock_songs\n",
    "    GROUP BY Artist, Release_Year\n",
    "    ORDER BY num_songs desc;\n",
    "'''\n",
    "\n",
    "# Execute the query\n",
    "observations = pds.read_sql(query, con)\n",
    "\n",
    "observations.head()"
   ]
  },
  {
   "cell_type": "markdown",
   "metadata": {},
   "source": [
    "## Common parameters\n",
    "\n",
    "There are a number of common paramters that can be used to read in SQL data with formatting:\n",
    "\n",
    "*   coerce_float: Attempt to force numbers into floats\n",
    "*   parse_dates: List of columns to parse as dates\n",
    "*   chunksize: Number of rows to include in each chunk\n",
    "\n",
    "Let's have a look at using some of these parameters\n"
   ]
  },
  {
   "cell_type": "code",
   "execution_count": null,
   "metadata": {},
   "outputs": [],
   "source": [
    "query='''\n",
    "SELECT Artist, Release_Year, COUNT(*) AS num_songs, AVG(PlayCount) AS avg_plays  \n",
    "    FROM rock_songs\n",
    "    GROUP BY Artist, Release_Year\n",
    "    ORDER BY num_songs desc;\n",
    "'''\n",
    "\n",
    "# Execute the query\n",
    "observations_generator = pds.read_sql(query,\n",
    "                            con,\n",
    "                            coerce_float=True, # Doesn't efefct this dataset, because floats were correctly parsed\n",
    "                            parse_dates=['Release_Year'], # Parse `Release_Year` as a date\n",
    "                            chunksize=5 # Allows for streaming results as a series of shorter tables\n",
    "                           )\n",
    "\n",
    "for index, observations in enumerate(observations_generator):\n",
    "    if index < 5:\n",
    "        print(f'Observations index: {index}'.format(index))\n",
    "        display(observations)"
   ]
  },
  {
   "cell_type": "markdown",
   "metadata": {},
   "source": [
    "### Machine Learning Foundation (C) 2020 IBM Corporation\n"
   ]
  }
 ],
 "metadata": {
  "kernelspec": {
   "display_name": "Python 3 (ipykernel)",
   "language": "python",
   "name": "python3"
  },
  "language_info": {
   "codemirror_mode": {
    "name": "ipython",
    "version": 3
   },
   "file_extension": ".py",
   "mimetype": "text/x-python",
   "name": "python",
   "nbconvert_exporter": "python",
   "pygments_lexer": "ipython3",
   "version": "3.10.0"
  },
  "varInspector": {
   "cols": {
    "lenName": 16,
    "lenType": 16,
    "lenVar": 40
   },
   "kernels_config": {
    "python": {
     "delete_cmd_postfix": "",
     "delete_cmd_prefix": "del ",
     "library": "var_list.py",
     "varRefreshCmd": "print(var_dic_list())"
    },
    "r": {
     "delete_cmd_postfix": ") ",
     "delete_cmd_prefix": "rm(",
     "library": "var_list.r",
     "varRefreshCmd": "cat(var_dic_list()) "
    }
   },
   "types_to_exclude": [
    "module",
    "function",
    "builtin_function_or_method",
    "instance",
    "_Feature"
   ],
   "window_display": false
  }
 },
 "nbformat": 4,
 "nbformat_minor": 4
}
