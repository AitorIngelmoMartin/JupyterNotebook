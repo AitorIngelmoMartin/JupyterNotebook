{
 "cells": [
  {
   "cell_type": "markdown",
   "id": "6e897e51",
   "metadata": {},
   "source": [
    "# Introduccion a la libreria\n",
    "Esta librería maneja por dentro TKinter para facilitar su uso.  \n",
    "\n",
    "Emplea un interesante sistemas de capas (layout) que permite situar los elementos de forma cómoda en la ventana de la aplicación.  \n",
    "\n",
    "\n",
    "Podemos darles atributos clave a los elementos de la siguiente forma:\n",
    "                    \n",
    "                    key = \"-NOMBRE_DEL_ARGUMENTO-\"\n",
    "El escribir el nombre en mayúsculas rodeado por dos simbolos \"-\" es opcional, pero se suele usar como una combención.\n",
    "#### Eventos\n",
    "Los eventos son sucesos ocurridos a partir de una acción determinada. Cualquier elemento puede poner en funcionamiento un evento.\n",
    "Podemos comprobar los eventos si buscamos los atributos datos a los elementos que los invocan."
   ]
  },
  {
   "cell_type": "code",
   "execution_count": 5,
   "id": "08fa34ca",
   "metadata": {},
   "outputs": [
    {
     "name": "stdout",
     "output_type": "stream",
     "text": [
      "Se ha presionado el boton\n",
      "Se ha presionado el boton\n",
      "Se ha presionado el boton\n",
      "Se ha presionado el boton\n",
      "Se ha presionado el boton\n"
     ]
    }
   ],
   "source": [
    "import PySimpleGUI as sg\n",
    "\n",
    "layout = [[sg.Text(\"Texto de ejemplo\"),sg.Spin([\"Cosa 1\",\"Cosa 2\",\"Cosa 3\"])],\n",
    "          [sg.Button(\"Boton\", key=\"-BOTON_EJEMPLO-\")],\n",
    "          [sg.Input()]\n",
    "]\n",
    "\n",
    "window = sg.Window(\"Nombre de la ventana\", layout)\n",
    "\n",
    "while True:\n",
    "   event, values = window.read()\n",
    "   if event == sg.WINDOW_CLOSED:\n",
    "        break\n",
    "   if event == \"-BOTON_EJEMPLO-\":\n",
    "        print(\"Se ha presionado el boton\")"
   ]
  },
  {
   "cell_type": "markdown",
   "id": "0de25974",
   "metadata": {},
   "source": [
    "https://www.youtube.com/watch?v=QeMaWQZllhg&ab_channel=ClearCode\n",
    "19:42"
   ]
  }
 ],
 "metadata": {
  "kernelspec": {
   "display_name": "Python 3 (ipykernel)",
   "language": "python",
   "name": "python3"
  },
  "language_info": {
   "codemirror_mode": {
    "name": "ipython",
    "version": 3
   },
   "file_extension": ".py",
   "mimetype": "text/x-python",
   "name": "python",
   "nbconvert_exporter": "python",
   "pygments_lexer": "ipython3",
   "version": "3.10.0"
  }
 },
 "nbformat": 4,
 "nbformat_minor": 5
}
