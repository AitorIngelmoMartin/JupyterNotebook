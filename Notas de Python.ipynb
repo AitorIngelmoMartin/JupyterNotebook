{
 "cells": [
  {
   "cell_type": "markdown",
   "id": "8fc9ef72",
   "metadata": {},
   "source": [
    "## Importar librerias:\n",
    " - pip install \"libreria\" para instalar en el ordenador.\n",
    " - import \"librería\" as \"abreviación deseada\" para trabajar con ella."
   ]
  },
  {
   "cell_type": "code",
   "execution_count": 26,
   "id": "67428b98",
   "metadata": {},
   "outputs": [],
   "source": [
    "import numpy  as np\n",
    "import pandas as pd"
   ]
  },
  {
   "cell_type": "markdown",
   "id": "31fab73c",
   "metadata": {},
   "source": [
    "# Nombrado de variables\n",
    "\n",
    " Existen varios formatos posibles para declarar variables, estos 3 son los más famosos y aceptados."
   ]
  },
  {
   "cell_type": "code",
   "execution_count": 54,
   "id": "226af0b2",
   "metadata": {},
   "outputs": [],
   "source": [
    "#Camel Case - Cada palabra menos la primera empieza por mayúscula:\n",
    "myVariableName = \"Aitor\"\n",
    "\n",
    "#Pascal Case - Cada palabra empieza por mayúscula:\n",
    "MyVariableName = \"Aitor\"\n",
    "\n",
    "#Snake Case - Cada palabra está separada por una barra baja:\n",
    "my_variable_name = \"Aitor\""
   ]
  },
  {
   "cell_type": "markdown",
   "id": "e758acd8",
   "metadata": {},
   "source": [
    "# Variables\n",
    "- En python no hay comandos para declarar variables, simplemente asigno el nombre a un valor.\n",
    "-    Podemos cambiar el tipo de una variable despues de haberla declarado.\n",
    "-    Python hace diferenciación entre mayusculas y minúscolas."
   ]
  },
  {
   "cell_type": "code",
   "execution_count": 28,
   "id": "3bc6b5ad",
   "metadata": {},
   "outputs": [
    {
     "name": "stdout",
     "output_type": "stream",
     "text": [
      "Inicialmente la  variable tiene el valor de: 25\n",
      "Ahora la  variable tiene el valor de:casa\n",
      "La variable A es: 5 Y la a es: 65\n"
     ]
    }
   ],
   "source": [
    "variable_entera = 25\n",
    "print(\"Inicialmente la  variable tiene el valor de:\",variable_entera)\n",
    "variable_entera = \"casa\"\n",
    "print(\"Ahora la  variable tiene el valor de:\"+variable_entera)\n",
    "A = 5\n",
    "a = 65\n",
    "print(\"La variable A es:\",A,\"Y la a es:\",a)"
   ]
  },
  {
   "cell_type": "markdown",
   "id": "6facfb9a",
   "metadata": {},
   "source": [
    "- Podemos fijar el tipo de una variable haciendo un casting como en la siguiente celda\n",
    "- Tambien tenemos la obción de obtener el tipo de variable con la función \"type()\""
   ]
  },
  {
   "cell_type": "code",
   "execution_count": 29,
   "id": "5bd80cb0",
   "metadata": {},
   "outputs": [
    {
     "name": "stdout",
     "output_type": "stream",
     "text": [
      "3 3 3.0\n",
      "El tipo de dato de x es <class 'str'> el de y: <class 'int'> y el de z <class 'float'>\n"
     ]
    }
   ],
   "source": [
    "x = str(3)    # x  es una cadena de valor '3'\n",
    "y = int(3)    # y  es un entero de valor   3\n",
    "z = float(3)  # z es un float de valor     3.0\n",
    "print(x,y,z)\n",
    "\n",
    "dato_x = type(x)\n",
    "dato_y = type(y)\n",
    "dato_z = type(z)\n",
    "print(\"El tipo de dato de x es\",dato_x, \"el de y:\",dato_y, \"y el de z\",dato_z)"
   ]
  },
  {
   "cell_type": "markdown",
   "id": "4d2c8257",
   "metadata": {},
   "source": [
    "# Print\n",
    "El comando print nos permite imprimir el valor de variables o texto plano.\n",
    "- Podemos concatenar variables con print de la forma:\n",
    "         print(variable_1, variable_2)\n",
    "- Podemos concatenar variables con texto de la firna:\n",
    "         print(variable_1 +\"texto\",variable_2)\n",
    "- Podemos concatenar texto de la forma:\n",
    "         print(\"Texto\" + \" \" + variable_texto)\n",
    "Es buena costumbre poner un \"\\n\" tras cada print. Esto nos permite insertar un salto de línea."
   ]
  },
  {
   "cell_type": "code",
   "execution_count": 30,
   "id": "3c1bacaa",
   "metadata": {},
   "outputs": [
    {
     "name": "stdout",
     "output_type": "stream",
     "text": [
      "Esto es una cadena de texto\n",
      "La variable numérica es: 687515 , mientras que la 2 es: 687965\n",
      "Nuestra cadena de texto puede ser impresa junto a la variable: 687515\n",
      "No es lo mismo decir cadena de texto que Esto es una cadena de texto\n"
     ]
    }
   ],
   "source": [
    "cadena_texto    = \"Esto es una cadena de texto\"\n",
    "cadena_auxiliar = \"cadena de texto\"\n",
    "variale_numerica_1 = 687515\n",
    "variale_numerica_2 = 687965\n",
    "\n",
    "print(cadena_texto)\n",
    "print(\"La variable numérica es:\",variale_numerica_1,\", mientras que la 2 es:\",variale_numerica_2)\n",
    "print(\"Nuestra\",cadena_auxiliar, \"puede ser impresa junto a la variable:\",variale_numerica_1)\n",
    "\n",
    "# Las comillas varías dan el espacio entre cadenas\n",
    "print(\"No es lo mismo decir\" + \" \" + cadena_auxiliar + \" que \" + cadena_texto) "
   ]
  },
  {
   "cell_type": "markdown",
   "id": "e35899ef",
   "metadata": {},
   "source": [
    "# Inputs \n",
    "- Podemos concederle la oportunidad a nuestro usuario de introducir valores al programa.\n",
    "Para ello usamor la estructura input():  \n",
    "Es importante recordar que input() transforma el dato en una cadena de caracteres, por lo que debemos convertirlo en el tipo de dato deseado."
   ]
  },
  {
   "cell_type": "code",
   "execution_count": 31,
   "id": "b3835e69",
   "metadata": {},
   "outputs": [
    {
     "name": "stdout",
     "output_type": "stream",
     "text": [
      "La variable introducida es: 5\n",
      "Esta variable es del tipo <class 'str'>\n",
      "El valor entero introducido es el: 5\n",
      "Esta segunda variable es del tipo <class 'int'>\n"
     ]
    }
   ],
   "source": [
    "variable_introducida = input(\"La variable introducida es: \")\n",
    "print(\"Esta variable es del tipo\", type(variable_introducida))\n",
    "                                        \n",
    "variable_introducida_entera = int(input(\"El valor entero introducido es el: \"))\n",
    "print(\"Esta segunda variable es del tipo\", type(variable_introducida_entera))"
   ]
  },
  {
   "cell_type": "markdown",
   "id": "424440aa",
   "metadata": {},
   "source": [
    "# Try-Except\n",
    "En ciertos puntos de un programa podemos estar haciendo acciones que generen problemas.\n",
    "Si por ejemplo en el caso anterior en el cual introduciamos un int, metemos cualquier valor distinto a un int, el método int() nos va a devolver un error.  \n",
    "Para evitar que este tipo de sucesos colapsen o interrumpan el correcto funcionamiento del programa, debemos emplear la infraestructura Try-Except_\n",
    "\n",
    "    - try:    Introducimos aquí el código que sabemos que puede dar un error.\n",
    "    - except: Introducimos aquí el código a ejecutar si se da ese error."
   ]
  },
  {
   "cell_type": "code",
   "execution_count": 32,
   "id": "11315a58",
   "metadata": {},
   "outputs": [
    {
     "name": "stdout",
     "output_type": "stream",
     "text": [
      "Número introducido: 5\n"
     ]
    }
   ],
   "source": [
    "try:\n",
    "    numero_introducido = int(input(\"Número introducido: \"))\n",
    "except:\n",
    "    print(\"No se ha podido reconocer el número introducido....\")"
   ]
  },
  {
   "cell_type": "markdown",
   "id": "8fce504f",
   "metadata": {},
   "source": [
    "# Sentencias if\n",
    "   - Operadores lógicos\n",
    "        - or: Se usa cuando quieres cumplir una de las condiciones estudiadas\n",
    "        - and: Se usa cuando se deben cumplir todas las condiciones estudiadas\n",
    "        - not: Resuelve la sentencia lógica y la invierte"
   ]
  },
  {
   "cell_type": "code",
   "execution_count": 33,
   "id": "096589c1",
   "metadata": {},
   "outputs": [
    {
     "name": "stdout",
     "output_type": "stream",
     "text": [
      "La variable_B es mayor que la variable_A\n",
      "Se ha ejecutado la and\n",
      "Se ha ejecutado el or\n",
      "Se ha ejecutado el not\n"
     ]
    }
   ],
   "source": [
    "variable_A = 20\n",
    "variable_B = 22\n",
    "variable_C = 80\n",
    "variable_D = 2\n",
    "\n",
    "if variable_A > variable_B:\n",
    "    print(\"La variable_A es mayor que la variable_B\")\n",
    "else:\n",
    "    print(\"La variable_B es mayor que la variable_A\")\n",
    "    \n",
    "if (variable_A<variable_B) and (variable_C>variable_D):\n",
    "    print(\"Se ha ejecutado la and\")\n",
    "if (variable_A<variable_B) or (variable_C<variable_D):\n",
    "    print(\"Se ha ejecutado el or\")\n",
    "if (not((variable_A>variable_B) or (variable_C<variable_D))):\n",
    "    print(\"Se ha ejecutado el not\")"
   ]
  },
  {
   "cell_type": "markdown",
   "id": "29b15a4d",
   "metadata": {},
   "source": [
    "# Sentencia For\n",
    "  - Gracias a los bucles for podemos realizar una tarea un número determinado de veces.\n",
    "  - Otro uso de los bucles for es que nos permiten recorrer arrays y manipularlos.\n",
    "  \n",
    "  - En los bucles \"for\" solemos tener una variable auxiliar (\"x\" en la celda de abajo) que nos permite interactuar con los elementos de la lísta.\n",
    "  \n",
    "  - La peculiaridad de esta variable es que en si es un puntero que va cambiando su dirección a las diferentes posiciones de memoria que contienen los elementos de la lísta. Por lo que si imprimo esta variable al final tendrá el valor de la última dirección apuntada."
   ]
  },
  {
   "cell_type": "code",
   "execution_count": 34,
   "id": "1e9ed20a",
   "metadata": {},
   "outputs": [
    {
     "name": "stdout",
     "output_type": "stream",
     "text": [
      "Elemento_0\n",
      "Elemento_1\n",
      "Elemento_2\n",
      "El valor final de x es: Elemento_2\n"
     ]
    }
   ],
   "source": [
    "lista_a_imprimir = [\"Elemento_0\", \"Elemento_1\", \"Elemento_2\"]\n",
    "\n",
    "for x in lista_a_imprimir:\n",
    "  print(x)\n",
    "\n",
    "print(\"El valor final de x es:\",x)"
   ]
  },
  {
   "cell_type": "markdown",
   "id": "cd7cf889",
   "metadata": {},
   "source": [
    "# Arrays\n",
    "- Podemos declarar arrays de una forma muy similar a la de matlab.\n",
    "- Para iterar sobre una lista y cambiar valores en concreto, debo usar la celda inferior.\n",
    "\n",
    "    ### Range():\n",
    "    Nos permite recoger los valores del intervalo [0,input].\n",
    "    ### Len():\n",
    "    Devuelve el número de elementos de un array.\n",
    "    ### insert():\n",
    "    Permite introducir un valor en la posicion deseada. Debo pasarle la posición a introducir y el valor. Este método no solapa, por lo que si hay valores en esa posicion va a desplazarlos a la derecha."
   ]
  },
  {
   "cell_type": "code",
   "execution_count": 35,
   "id": "a6e00e18",
   "metadata": {},
   "outputs": [
    {
     "name": "stdout",
     "output_type": "stream",
     "text": [
      "Array original [1, 5, 8, 9, 4, 5, 7, 8, 9, 20, 24] y su rango es: range(0, 11) \n",
      "\n",
      "Tras instroducir el valor 500 en la posición 2, el array es asi: [1, 5, 500, 8, 9, 4, 5, 7, 8, 9, 20, 24]\n",
      "Su nuevo rango es range(0, 12) \n",
      "\n",
      "Introduzco el 10 en todas aquellas posiciones mayores o iguales a 8....\n",
      "Ahora mi array tiene esta forma [1, 5, 10, 10, 10, 4, 5, 7, 10, 10, 10, 10] \n",
      "\n"
     ]
    }
   ],
   "source": [
    "Mi_Array = [1, 5 ,8 ,9, 4, 5 ,7 ,8 ,9, 20, 24 ]\n",
    "rango = range(len(Mi_Array))\n",
    "print(\"Array original\",Mi_Array,\"y su rango es:\",rango,\"\\n\")\n",
    "\n",
    "Mi_Array.insert(2,500)\n",
    "rango = range(len(Mi_Array))\n",
    "print(\"Tras instroducir el valor 500 en la posición 2, el array es asi:\",Mi_Array)\n",
    "print(\"Su nuevo rango es\",rango,\"\\n\")\n",
    "print(\"Introduzco el 10 en todas aquellas posiciones mayores o iguales a 8....\")   \n",
    "for indice in range(len(Mi_Array)):\n",
    "    if Mi_Array[indice] >= 8:\n",
    "        Mi_Array[indice] = 10\n",
    "        \n",
    "print(\"Ahora mi array tiene esta forma\",Mi_Array,\"\\n\")"
   ]
  },
  {
   "cell_type": "markdown",
   "id": "92bc628b",
   "metadata": {},
   "source": [
    "### Otros métodos en arrays\n",
    "\n",
    "   - append(): \n",
    "       Añade al final de un array un elemento.\n",
    "   - pop():\n",
    "       Elimina el valor de la posición que digamos.\n",
    "   - remove():\n",
    "       Elimina el primer elemento con ese valor. Si el elemento a eliminar no está en la lista da un error.\n",
    "   - count(): Devuelve el número de veces que está el elemento determiado en la lísta.\n",
    "   "
   ]
  },
  {
   "cell_type": "code",
   "execution_count": 36,
   "id": "7f63088d",
   "metadata": {},
   "outputs": [
    {
     "name": "stdout",
     "output_type": "stream",
     "text": [
      "Inicialmente el número 8 aparece: 3 veces en la lísta, y la longitud de la lista es 14\n",
      "Finalmente el número 8 aparece: 2 veces en la lísta y la longitud de la lista es 13\n"
     ]
    }
   ],
   "source": [
    "lista_inicial = [1, 5, 8, 4,5,8 ,7, 8, 5,7, 6, 4, 2, 3]\n",
    "numero_ochos  = lista_inicial.count(8)\n",
    "print(\"Inicialmente el número 8 aparece:\",numero_ochos,\"veces en la lísta, y la longitud de la lista es\",len(lista_inicial))\n",
    "\n",
    "lista_inicial.append(1492)\n",
    "lista_inicial.pop(3)\n",
    "lista_inicial.remove(8)\n",
    "\n",
    "numero_ochos  = lista_inicial.count(8)\n",
    "print(\"Finalmente el número 8 aparece:\",numero_ochos,\"veces en la lísta y la longitud de la lista es\",len(lista_inicial))"
   ]
  },
  {
   "cell_type": "markdown",
   "id": "4debd357",
   "metadata": {},
   "source": [
    "# Funciones\n",
    "\n",
    "\n",
    " Para llamar a una función debemos haberla declarado antes y luego llamarla con el nombre de la función seguida de paréntesis.\n",
    " \n",
    "         nombre_funcion()\n",
    "         \n",
    " Podemos devolver valores de nuestra función mediante el uso de return.  Este valor retornado puede ser una cadena de valores\n",
    " \n",
    "         return valor_a_devolver        \n",
    " \n",
    "Es buena práctica el detallar que hace cada función justo despues de inicializarla \n"
   ]
  },
  {
   "cell_type": "code",
   "execution_count": 40,
   "id": "e0421da2",
   "metadata": {},
   "outputs": [
    {
     "name": "stdout",
     "output_type": "stream",
     "text": [
      "Esta función te manda saludos\n",
      "La flecha calculada es: 0.6428571428571429\n",
      "El número 5 tiene como cuadrado 25 y como doble 10\n"
     ]
    }
   ],
   "source": [
    "def funcion_saludo():\n",
    "   \"\"\"\"Esta función nos deveulve un saludo\"\"\"\n",
    "   print(\"Esta función te manda saludos\")\n",
    "funcion_saludo()\n",
    "\n",
    "def calculo_flecha(distancia_1,distancia_2):\n",
    "    \"\"\"\"Esta función nos calcula la flecha del obstáculo\"\"\"    \n",
    "    flecha = (distancia_1*distancia_2)/(2*6370000*(4/3))\n",
    "    return flecha\n",
    "flecha_calculada = calculo_flecha(2100,5200)\n",
    "\n",
    "print(\"La flecha calculada es:\", flecha_calculada)\n",
    "def calculo_cuadrado_y_doble(numero):\n",
    "    \"\"\"\"Esta función hace el cuadrado y el doble\"\"\"    \n",
    "    cuadrado = numero*numero\n",
    "    doble = 2*numero\n",
    "    return cuadrado, doble\n",
    "numero = 5\n",
    "numero_tratado = calculo_cuadrado_y_doble(numero)\n",
    "print(\"El número\",5,\"tiene como cuadrado\",numero_tratado[0], \"y como doble\",numero_tratado[1])"
   ]
  },
  {
   "cell_type": "markdown",
   "id": "1beb6d38",
   "metadata": {},
   "source": [
    "# Diccionarios\n",
    "Los diccionarios son estructuras que nos permiten recoger información mediante identificadores clave previamente detallados.  \n",
    "Podemos declarar un diccionario de la siguiente forma:\n",
    "            \n",
    "           nombre_diccionario = {}\n",
    "            \n",
    "En el diccionario de a continuación tenemos como identificadores clave \"Marca\", \"Modelo\" y \"Año\". Los identificadores clave deben cumplir la siguiente sintaxis:\n",
    "            \n",
    "            \"Nombre_identificador_1\": Valor_1, \"Nombre_identificador_2\": Valor_2  \n",
    "            "
   ]
  },
  {
   "cell_type": "code",
   "execution_count": null,
   "id": "301b59da",
   "metadata": {},
   "outputs": [],
   "source": [
    "diccionario_coches = {\n",
    "  \"Marca\": \"Ford\",\n",
    "  \"Modelo\": \"Mustang\",\n",
    "  \"Año\": 1964\n",
    "}\n",
    "print(diccionario_coches,\"\\n\")\n",
    "print(\"El modelo del coche es\",diccionario_coches[\"Modelo\"],\"\\n\")"
   ]
  },
  {
   "cell_type": "markdown",
   "id": "cd97cde5",
   "metadata": {},
   "source": [
    "#### Manipulacion de diccionarios\n",
    "- Podemos acceder a un tipo concreto de identificador clave mediante de esta forma:\n",
    "\n",
    "            print(nombre_diccionario[\"Nombre_identificador\"])\n",
    "            \n",
    "- Podemos aplicar ciertos métodos vistos en la sección de arrays como lo son el método \"len()\".  \n",
    "\n",
    "- Los diccionarios pueden tomar cualquier tipo de dato como valor de un identificador.\n",
    "- Desde la versión \"python 3.7\", los diccionarios son modificables, lo que implica que podemos  cambiar, añadir o eliminar entradas en el diccionario tras haberlo declarado.\n",
    "        - La duplicación de identificadores solapará el anterior por el nuevo.\n",
    " ##### Metodos de diccionarios       \n",
    "        - pop(): Nos permite eliminar una entrada deseada.\n",
    "        - popitem(): Elimina la última entrada.\n",
    "        - del: Es una \"KeyWord\" que elimina el valor del identificador deseado.\n",
    "        - clear(): Borra por completo el diccionario.\n"
   ]
  },
  {
   "cell_type": "code",
   "execution_count": null,
   "id": "b9d0a7a6",
   "metadata": {},
   "outputs": [],
   "source": [
    " diccionario_coches = {\n",
    "  \"Marca\": \"Ford\",\n",
    "  \"Modelo\": \"Mustang\",\n",
    "  \"Año\": 1964,\n",
    "  \"Año\": 2000\n",
    "}\n",
    "print(\"Como ves, hemos solapado el Año 1964\",diccionario_coches, \"\\n\")\n",
    "\n",
    "diccionario_coches[\"Año\"] = 1964\n",
    "print(\"Tras esta línea, lo hemos arreglado añadiendo el campo de nuevo\",diccionario_coches, \"\\n\")\n",
    "\n",
    "diccionario_coches[\"Nuevo\"] = \"No\"\n",
    "print(\"Ahora hemos añadido un campo al diccionario igual que antes\",diccionario_coches, \"\\n\")\n",
    "\n",
    "diccionario_coches.pop(\"Modelo\")\n",
    "print(\"Hemos eliminado la entrada Modelo\",diccionario_coches, \"\\n\")\n",
    "\n",
    "del diccionario_coches[\"Nuevo\"]\n",
    "print(\"Hemos eliminado la entrada Nuevo\",diccionario_coches, \"\\n\")\n",
    "\n",
    "diccionario_estudiantes = {\n",
    "  \"Nombre estudiante\": \"Aitor\",\n",
    "  \"Nuevo egresado\": False,\n",
    "  \"Año entrada\": 2018,\n",
    "  \"Estudios\": [\"UAH\", \"Politecnico\", \"GIST\"]\n",
    "}\n",
    "print(\"Esto es un ejemplo de un diccionario con multiples tipos  de datos\"+\"\\n\",diccionario_estudiantes)"
   ]
  },
  {
   "attachments": {
    "image.png": {
     "image/png": "[encoded data removed]"
    }
   },
   "cell_type": "markdown",
   "id": "6c5f6984",
   "metadata": {},
   "source": [
    "# Programacion orientada a objetos\n",
    "Un objeto es una estructura que recoje el propio objeto, sus atributos, y cómo són esos atributos. No obstante, los objetos también pueden contener otros objetos, pero como base es suficiente entender esto.\n",
    "\n",
    "![image.png](attachment:image.png)\n",
    "\n",
    "La programación orientada a objetos es un paradigma de programación basado en la propia interacción de estos objetos.\n",
    "\n",
    " #### Clases\n",
    " - Son los elementos sobre los cuales vamos a crear nuestros objetos. Hay que diferenciar que no son objetos como tal, sino el esqueleto sobre el que se van a basar nuestros objetos.\n"
   ]
  },
  {
   "cell_type": "code",
   "execution_count": null,
   "id": "0f3a97d9",
   "metadata": {},
   "outputs": [],
   "source": [
    "class Antena:\n",
    "    pass # Pass informa que no hay propiedad dentro del objeto\n",
    "\n",
    "class Pelo:\n",
    "    pass\n",
    "\n",
    "class Ojo:\n",
    "    pass"
   ]
  },
  {
   "cell_type": "markdown",
   "id": "cb9dc677",
   "metadata": {},
   "source": [
    " #### Propiedades\n",
    " - Son las caracteristicas propias de estos objetos. Van dentro de una clase y toman un valor cualquiera.  \n",
    " Podemos acceder a ellas para tratarlas empleando la siguiente sintaxtis.\n",
    "              \n",
    "              nombre_objeto.propiedad "
   ]
  },
  {
   "cell_type": "code",
   "execution_count": null,
   "id": "260da26e",
   "metadata": {},
   "outputs": [],
   "source": [
    "class Objeto():\n",
    "    color   = \"rojo\"\n",
    "    tamaño  = \"normal\"\n",
    "    aspecto = \"elegante\"\n",
    "    \n",
    "antena = Objeto() # Creación del objeto antena basado en la clase objeto.\n",
    "print(\"El color original del objeto es\",antena.color)\n",
    "antena.color = \"azúl\"\n",
    "print(\"Ahora su color es\",antena.color)"
   ]
  },
  {
   "cell_type": "markdown",
   "id": "0b52fb35",
   "metadata": {},
   "source": [
    "#### Métodos\n",
    "- Son funciones que pueden ejecutar los objetos. Se declaran como una función normal pero su primer parámetro debe ser siempre \"Self\"."
   ]
  },
  {
   "cell_type": "code",
   "execution_count": null,
   "id": "b809fb17",
   "metadata": {},
   "outputs": [],
   "source": [
    "class Objeto():\n",
    "    color = \"verde\"\n",
    "    tamaño = \"grande\"\n",
    "    aspecto = \"feo\"\n",
    "    def cambio_aspecto(self, aspecto):\n",
    "        self.aspecto = aspecto\n",
    "mi_objeto = Objeto()\n",
    "\n",
    "print(\"El color de mi objeto es \",mi_objeto.color,\"su tamaño es\",mi_objeto.tamaño,\n",
    "      \"y luce\",mi_objeto.aspecto)\n",
    "\n",
    "print(\"Ejecutando la función de mi objeto... \\n\",mi_objeto.cambio_aspecto(\"guapo\"))\n",
    "print(\"El nuevo aspecto es:\",mi_objeto.aspecto)"
   ]
  },
  {
   "cell_type": "markdown",
   "id": "ce7d428e",
   "metadata": {},
   "source": [
    "#### Herencia\n",
    "- Los objetos pueden compartir caracteristicas entre ellos diferenciandose en propiedades concretas. Esto se ejemplifica con la propiedad color de la foto de arriba.\n",
    "- Para entender la herencia de propiedades se suele emplear el ejemplo de a continuacíon, donde tendremos personas, supervisores y obreros."
   ]
  },
  {
   "cell_type": "code",
   "execution_count": 135,
   "id": "0e8ae941",
   "metadata": {},
   "outputs": [
    {
     "data": {
      "text/plain": [
       "'Aitor Ingelmo. Sexo: Masculino'"
      ]
     },
     "execution_count": 135,
     "metadata": {},
     "output_type": "execute_result"
    }
   ],
   "source": [
    "class persona(object):\n",
    "    \"\"\"\" Es la clase sobre la que se construyen las demás. Sirve para inicializar personas\"\"\"\n",
    "    \n",
    "    def __init__(self, nombre: str, apellido: str, sexo: str):\n",
    "        \"\"\"\"El nombre de esta función está reservado. Python toma las propiedades de la clase aqui\"\"\"\n",
    "        self.nombre   = nombre\n",
    "        self.apellido = apellido\n",
    "        self.sexo     = sexo\n",
    "    # __srt__ es un valor reservado. Se usa para tener una cadena de texto con informacion de la clase\n",
    "    def __str__(self) -> str:\n",
    "        \"\"\"\"Devuelve una cadena con toda la información de la persona\"\"\"        \n",
    "        return f\"{self.nombre} {self.apellido}. Sexo: {self.__genero__(self.sexo)}\"\n",
    "    \n",
    "    def __genero__(self,sexo):\n",
    "        \"\"\"\"Nos muestra el género de la persona\"\"\"\n",
    "        genero = (\"Masculino\",\"Femenido\")\n",
    "        if sexo == \"M\":\n",
    "           return genero[0]\n",
    "        elif sexo == \"F\":\n",
    "          return genero[1]\n",
    "        else:\n",
    "          return \"Desconocido\"\n",
    "\n",
    "persona1 = persona(\"Aitor\", \"Ingelmo\", \"M\")\n",
    "persona1.__str__()"
   ]
  },
  {
   "cell_type": "markdown",
   "id": "286e1928",
   "metadata": {},
   "source": [
    "La clase anterior es una clase que define a una persona en general. Si ahora queremos poder definir, por ejemplo, un supervisor, podemos partir de esta clase general.  \n",
    "\n",
    "Esto tiene sentido ya que las dos clases emplean los mísmos atributos generales, por lo que no tiene sentido declarar dos clases son los mísmos atributos."
   ]
  },
  {
   "cell_type": "code",
   "execution_count": 116,
   "id": "5650209e",
   "metadata": {},
   "outputs": [
    {
     "data": {
      "text/plain": [
       "\"Victor Casado, rol: 'Chivo'.Sus tareas: Gerente, Supervisor de BigDatta, Relaciones públicas.\""
      ]
     },
     "execution_count": 116,
     "metadata": {},
     "output_type": "execute_result"
    }
   ],
   "source": [
    "class supervisor(persona):\n",
    "    \"\"\"Clase que representa a un Supervisor\"\"\"\n",
    "    \n",
    "    def __init__(self, nombre, apellido, sexo, rol):\n",
    "        \"\"\"Constructor de la clase Supervisor\"\"\"\n",
    "        # Invoca al constructor de clase Persona\n",
    "        persona.__init__(self, nombre, apellido, sexo)\n",
    "        \n",
    "        # Nuevos atributos\n",
    "        self.rol       = rol\n",
    "        self.tareas    = ['Gerente','Supervisor de BigDatta','Relaciones públicas']\n",
    "    #Este es nuestro propio __srt__. Lo suyo es usar el por defecto.\n",
    "    def __resumen__(self):\n",
    "        \"\"\"Devuelve una cadena representativa al Supervisor\"\"\"\n",
    "        return \"%s %s, rol: '%s'.Sus tareas: %s.\" % ( self.nombre, self.apellido, \n",
    "            self.rol, self.consulta_tareas())\n",
    "\n",
    "    def consulta_tareas(self):\n",
    "        \"\"\"Mostrar las tareas del Supervisor\"\"\"\n",
    "        return ', '.join(self.tareas)\n",
    "    \n",
    "\n",
    "supervisor1 = supervisor(\"Victor\", \"Casado\", \"D\", \"Chivo\")\n",
    "supervisor1.__resumen__()"
   ]
  },
  {
   "cell_type": "markdown",
   "id": "a6afa703",
   "metadata": {},
   "source": [
    "#### Librería DataClasses\n",
    "En base al ejemplo anterior de cómo heredar características, puede que se nos haga raro el tener que emplear las funciones \"__init__\" o \"__srt__\".  \n",
    "Esto tiene una forma de programarse más clara y rápida mediante el uso de la librería DataClasses.\n",
    "\n",
    "- Esta librería nos permite crear la funcion __init__ y un __repr__ para obtener la cadena con la informacion de la clase."
   ]
  },
  {
   "cell_type": "code",
   "execution_count": 163,
   "id": "213b34de",
   "metadata": {},
   "outputs": [
    {
     "name": "stdout",
     "output_type": "stream",
     "text": [
      "usuario(nombre='Aitor', apellido='Ingelmo', edad=24, sexo='Masculino')\n"
     ]
    }
   ],
   "source": [
    "from dataclasses import dataclass\n",
    "\n",
    "@dataclass\n",
    "class usuario:\n",
    "    nombre: str\n",
    "    apellido: str\n",
    "    edad: int\n",
    "    sexo: str\n",
    "        \n",
    "    def __genero__(self,sexo):\n",
    "        \"\"\"\"Nos muestra el género de la persona\"\"\"\n",
    "        genero = (\"Masculino\",\"Femenido\")\n",
    "        if sexo == \"M\":\n",
    "          self.sexo = genero[0]\n",
    "        elif sexo == \"F\":\n",
    "          self.sexo = genero[1]\n",
    "        else:\n",
    "          self.sexo = \"Desconocido\"\n",
    "        \n",
    "usuario_1 =usuario(nombre=\"Aitor\", apellido=\"Ingelmo\", edad=24,sexo = \"M\") \n",
    "usuario_1.__genero__(usuario_1.sexo)\n",
    "print(usuario_1)"
   ]
  },
  {
   "cell_type": "markdown",
   "id": "e397fb05",
   "metadata": {},
   "source": [
    "# Manipulacion de archivos"
   ]
  },
  {
   "cell_type": "markdown",
   "id": "daac63c3",
   "metadata": {},
   "source": [
    "  #### Comandos a usar en open()\n",
    "  \n",
    "- \"x\": Crea un archivo, pero devuelve un error si ya existe.\n",
    "- \"a\": Crea un archivo en caso de que no exista y escribe al final del documento.\n",
    "- \"w\": Crea un archivo y escribe en caso de que no exista y sobreescribe el archivo."
   ]
  },
  {
   "cell_type": "code",
   "execution_count": null,
   "id": "b7d89a7c",
   "metadata": {
    "scrolled": false
   },
   "outputs": [],
   "source": [
    "File = open(\"archivo_vacio.txt\", \"a\")\n",
    "\n",
    "File.write(\"Now the file has more content!\"+\"\\n\")\n",
    "File.close()"
   ]
  },
  {
   "cell_type": "code",
   "execution_count": null,
   "id": "06f2e337",
   "metadata": {},
   "outputs": [],
   "source": [
    "file = open(\"archivo_vacio.txt\",\"r\")\n",
    "\n",
    "archivo_texto = pd.read_csv(\"archivo_vacio.txt\")\n",
    "\n",
    "archivo_texto"
   ]
  }
 ],
 "metadata": {
  "kernelspec": {
   "display_name": "Python 3 (ipykernel)",
   "language": "python",
   "name": "python3"
  },
  "language_info": {
   "codemirror_mode": {
    "name": "ipython",
    "version": 3
   },
   "file_extension": ".py",
   "mimetype": "text/x-python",
   "name": "python",
   "nbconvert_exporter": "python",
   "pygments_lexer": "ipython3",
   "version": "3.10.0"
  },
  "varInspector": {
   "cols": {
    "lenName": 16,
    "lenType": 16,
    "lenVar": 40
   },
   "kernels_config": {
    "python": {
     "delete_cmd_postfix": "",
     "delete_cmd_prefix": "del ",
     "library": "var_list.py",
     "varRefreshCmd": "print(var_dic_list())"
    },
    "r": {
     "delete_cmd_postfix": ") ",
     "delete_cmd_prefix": "rm(",
     "library": "var_list.r",
     "varRefreshCmd": "cat(var_dic_list()) "
    }
   },
   "position": {
    "height": "812.844px",
    "left": "1549px",
    "right": "20px",
    "top": "111px",
    "width": "350px"
   },
   "types_to_exclude": [
    "module",
    "function",
    "builtin_function_or_method",
    "instance",
    "_Feature"
   ],
   "window_display": true
  }
 },
 "nbformat": 4,
 "nbformat_minor": 5
}
