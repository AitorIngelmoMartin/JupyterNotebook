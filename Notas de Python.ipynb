{
 "cells": [
  {
   "cell_type": "markdown",
   "id": "8fc9ef72",
   "metadata": {},
   "source": [
    "## Importar librerias:\n",
    " - pip install \"libreria\" para instalar en el ordenador.\n",
    " - import \"librería\" as \"abreviación deseada\" para trabajar con ella."
   ]
  },
  {
   "cell_type": "code",
   "execution_count": 36,
   "id": "67428b98",
   "metadata": {},
   "outputs": [],
   "source": [
    "import numpy  as np\n",
    "import pandas as pd"
   ]
  },
  {
   "cell_type": "markdown",
   "id": "31fab73c",
   "metadata": {},
   "source": [
    "# Nombrado de variables\n",
    "\n",
    " Existen varios formatos posibles para declarar variables, estos 3 son los más famosos y aceptados."
   ]
  },
  {
   "cell_type": "code",
   "execution_count": 37,
   "id": "226af0b2",
   "metadata": {},
   "outputs": [],
   "source": [
    "#Camel Case - Cada palabra menos la primera empieza por mayúscula:\n",
    "myVariableName = \"Aitor\"\n",
    "\n",
    "#Pascal Case - Cada palabra empieza por mayúscula:\n",
    "MyVariableName = \"Aitor\"\n",
    "\n",
    "#Snake Case - Cada palabra está separada por una barra baja:\n",
    "my_variable_name = \"Aitor\""
   ]
  },
  {
   "cell_type": "markdown",
   "id": "e758acd8",
   "metadata": {},
   "source": [
    "# Variables\n",
    "- En python no hay comandos para declarar variables, simplemente asigno el nombre a un valor.\n",
    "-    Podemos cambiar el tipo de una variable despues de haberla declarado.\n",
    "-    Python hace diferenciación entre mayusculas y minúscolas."
   ]
  },
  {
   "cell_type": "code",
   "execution_count": 38,
   "id": "3bc6b5ad",
   "metadata": {},
   "outputs": [
    {
     "name": "stdout",
     "output_type": "stream",
     "text": [
      "Inicialmente la  variable tiene el valor de: 25\n",
      "Ahora la  variable tiene el valor de:casa\n",
      "La variable A es: 5 Y la a es: 65\n"
     ]
    }
   ],
   "source": [
    "variable_entera = 25\n",
    "print(\"Inicialmente la  variable tiene el valor de:\",variable_entera)\n",
    "variable_entera = \"casa\"\n",
    "print(\"Ahora la  variable tiene el valor de:\"+variable_entera)\n",
    "A = 5\n",
    "a = 65\n",
    "print(\"La variable A es:\",A,\"Y la a es:\",a)"
   ]
  },
  {
   "cell_type": "markdown",
   "id": "6facfb9a",
   "metadata": {},
   "source": [
    "- Podemos fijar el tipo de una variable haciendo un casting como en la siguiente celda\n",
    "- Tambien tenemos la obción de obtener el tipo de variable con la función \"type()\""
   ]
  },
  {
   "cell_type": "code",
   "execution_count": 39,
   "id": "5bd80cb0",
   "metadata": {},
   "outputs": [
    {
     "name": "stdout",
     "output_type": "stream",
     "text": [
      "3 3 3.0\n",
      "El tipo de dato de x es <class 'str'> el de y: <class 'int'> y el de z <class 'float'>\n"
     ]
    }
   ],
   "source": [
    "x = str(3)    # x  es una cadena de valor '3'\n",
    "y = int(3)    # y  es un entero de valor   3\n",
    "z = float(3)  # z es un float de valor     3.0\n",
    "print(x,y,z)\n",
    "\n",
    "dato_x = type(x)\n",
    "dato_y = type(y)\n",
    "dato_z = type(z)\n",
    "print(\"El tipo de dato de x es\",dato_x, \"el de y:\",dato_y, \"y el de z\",dato_z)"
   ]
  },
  {
   "cell_type": "markdown",
   "id": "4d2c8257",
   "metadata": {},
   "source": [
    "# Print\n",
    "El comando print nos permite imprimir el valor de variables o texto plano.\n",
    "- Podemos concatenar variables con print de la forma:\n",
    "         print(variable_1, variable_2)\n",
    "- Podemos concatenar variables con texto de la firna:\n",
    "         print(variable_1 +\"texto\",variable_2)\n",
    "- Podemos concatenar texto de la forma:\n",
    "         print(\"Texto\" + \" \" + variable_texto)\n",
    "Es buena costumbre poner un \"\\n\" tras cada print. Esto nos permite insertar un salto de línea."
   ]
  },
  {
   "cell_type": "code",
   "execution_count": 40,
   "id": "3c1bacaa",
   "metadata": {},
   "outputs": [
    {
     "name": "stdout",
     "output_type": "stream",
     "text": [
      "Esto es una cadena de texto\n",
      "La variable numérica es: 687515 , mientras que la 2 es: 687965\n",
      "Nuestra cadena de texto puede ser impresa junto a la variable: 687515\n",
      "No es lo mismo decir cadena de texto que Esto es una cadena de texto\n"
     ]
    }
   ],
   "source": [
    "cadena_texto    = \"Esto es una cadena de texto\"\n",
    "cadena_auxiliar = \"cadena de texto\"\n",
    "variale_numerica_1 = 687515\n",
    "variale_numerica_2 = 687965\n",
    "\n",
    "print(cadena_texto)\n",
    "print(\"La variable numérica es:\",variale_numerica_1,\", mientras que la 2 es:\",variale_numerica_2)\n",
    "print(\"Nuestra\",cadena_auxiliar, \"puede ser impresa junto a la variable:\",variale_numerica_1)\n",
    "\n",
    "# Las comillas varías dan el espacio entre cadenas\n",
    "print(\"No es lo mismo decir\" + \" \" + cadena_auxiliar + \" que \" + cadena_texto) "
   ]
  },
  {
   "cell_type": "markdown",
   "id": "e35899ef",
   "metadata": {},
   "source": [
    "# Inputs \n",
    "- Podemos concederle la oportunidad a nuestro usuario de introducir valores al programa.\n",
    "Para ello usamor la estructura input():  \n",
    "Es importante recordar que input() transforma el dato en una cadena de caracteres, por lo que debemos convertirlo en el tipo de dato deseado."
   ]
  },
  {
   "cell_type": "code",
   "execution_count": 41,
   "id": "b3835e69",
   "metadata": {},
   "outputs": [
    {
     "name": "stdout",
     "output_type": "stream",
     "text": [
      "La variable introducida es: asdasd\n",
      "Esta variable es del tipo <class 'str'>\n",
      "El valor entero introducido es el: adasd\n"
     ]
    },
    {
     "ename": "ValueError",
     "evalue": "invalid literal for int() with base 10: 'adasd'",
     "output_type": "error",
     "traceback": [
      "\u001b[1;31m---------------------------------------------------------------------------\u001b[0m",
      "\u001b[1;31mValueError\u001b[0m                                Traceback (most recent call last)",
      "Input \u001b[1;32mIn [41]\u001b[0m, in \u001b[0;36m<cell line: 4>\u001b[1;34m()\u001b[0m\n\u001b[0;32m      1\u001b[0m variable_introducida \u001b[38;5;241m=\u001b[39m \u001b[38;5;28minput\u001b[39m(\u001b[38;5;124m\"\u001b[39m\u001b[38;5;124mLa variable introducida es: \u001b[39m\u001b[38;5;124m\"\u001b[39m)\n\u001b[0;32m      2\u001b[0m \u001b[38;5;28mprint\u001b[39m(\u001b[38;5;124m\"\u001b[39m\u001b[38;5;124mEsta variable es del tipo\u001b[39m\u001b[38;5;124m\"\u001b[39m, \u001b[38;5;28mtype\u001b[39m(variable_introducida))\n\u001b[1;32m----> 4\u001b[0m variable_introducida_entera \u001b[38;5;241m=\u001b[39m \u001b[38;5;28;43mint\u001b[39;49m\u001b[43m(\u001b[49m\u001b[38;5;28;43minput\u001b[39;49m\u001b[43m(\u001b[49m\u001b[38;5;124;43m\"\u001b[39;49m\u001b[38;5;124;43mEl valor entero introducido es el: \u001b[39;49m\u001b[38;5;124;43m\"\u001b[39;49m\u001b[43m)\u001b[49m\u001b[43m)\u001b[49m\n\u001b[0;32m      5\u001b[0m \u001b[38;5;28mprint\u001b[39m(\u001b[38;5;124m\"\u001b[39m\u001b[38;5;124mEsta segunda variable es del tipo\u001b[39m\u001b[38;5;124m\"\u001b[39m, \u001b[38;5;28mtype\u001b[39m(variable_introducida_entera))\n",
      "\u001b[1;31mValueError\u001b[0m: invalid literal for int() with base 10: 'adasd'"
     ]
    }
   ],
   "source": [
    "variable_introducida = input(\"La variable introducida es: \")\n",
    "print(\"Esta variable es del tipo\", type(variable_introducida))\n",
    "                                        \n",
    "variable_introducida_entera = int(input(\"El valor entero introducido es el: \"))\n",
    "print(\"Esta segunda variable es del tipo\", type(variable_introducida_entera))"
   ]
  },
  {
   "cell_type": "markdown",
   "id": "424440aa",
   "metadata": {},
   "source": [
    "# Try-Except\n",
    "En ciertos puntos de un programa podemos estar haciendo acciones que generen problemas.\n",
    "Si por ejemplo en el caso anterior en el cual introduciamos un int, metemos cualquier valor distinto a un int, el método int() nos va a devolver un error.  \n",
    "Para evitar que este tipo de sucesos colapsen o interrumpan el correcto funcionamiento del programa, debemos emplear la infraestructura Try-Except_\n",
    "\n",
    "    - try:    Introducimos aquí el código que sabemos que puede dar un error.\n",
    "    - except: Introducimos aquí el código a ejecutar si se da ese error."
   ]
  },
  {
   "cell_type": "code",
   "execution_count": null,
   "id": "11315a58",
   "metadata": {},
   "outputs": [],
   "source": [
    "try:\n",
    "    numero_introducido = int(input(\"Número introducido: \"))\n",
    "except:\n",
    "    print(\"No se ha podido reconocer el número introducido....\")"
   ]
  },
  {
   "cell_type": "markdown",
   "id": "8fce504f",
   "metadata": {},
   "source": [
    "# Sentencias if\n",
    "   - Operadores lógicos\n",
    "        - or: Se usa cuando quieres cumplir una de las condiciones estudiadas\n",
    "        - and: Se usa cuando se deben cumplir todas las condiciones estudiadas\n",
    "        - not: Resuelve la sentencia lógica y la invierte"
   ]
  },
  {
   "cell_type": "code",
   "execution_count": null,
   "id": "096589c1",
   "metadata": {},
   "outputs": [],
   "source": [
    "variable_A = 20\n",
    "variable_B = 22\n",
    "variable_C = 80\n",
    "variable_D = 2\n",
    "\n",
    "if variable_A > variable_B:\n",
    "    print(\"La variable_A es mayor que la variable_B\")\n",
    "else:\n",
    "    print(\"La variable_B es mayor que la variable_A\")\n",
    "    \n",
    "if (variable_A<variable_B) and (variable_C>variable_D):\n",
    "    print(\"Se ha ejecutado la and\")\n",
    "if (variable_A<variable_B) or (variable_C<variable_D):\n",
    "    print(\"Se ha ejecutado el or\")\n",
    "if (not((variable_A>variable_B) or (variable_C<variable_D))):\n",
    "    print(\"Se ha ejecutado el not\")"
   ]
  },
  {
   "cell_type": "markdown",
   "id": "29b15a4d",
   "metadata": {},
   "source": [
    "# Sentencia For\n",
    "  - Gracias a los bucles for podemos realizar una tarea un número determinado de veces.\n",
    "  - Otro uso de los bucles for es que nos permiten recorrer arrays y manipularlos.\n",
    "  \n",
    "  - En los bucles \"for\" solemos tener una variable auxiliar (\"x\" en la celda de abajo) que nos permite interactuar con los elementos de la lísta.\n",
    "  \n",
    "  - La peculiaridad de esta variable es que en si es un puntero que va cambiando su dirección a las diferentes posiciones de memoria que contienen los elementos de la lísta. Por lo que si imprimo esta variable al final tendrá el valor de la última dirección apuntada."
   ]
  },
  {
   "cell_type": "code",
   "execution_count": null,
   "id": "1e9ed20a",
   "metadata": {},
   "outputs": [],
   "source": [
    "lista_a_imprimir = [\"Elemento_0\", \"Elemento_1\", \"Elemento_2\"]\n",
    "\n",
    "for x in lista_a_imprimir:\n",
    "  print(x)\n",
    "\n",
    "print(\"El valor final de x es:\",x)"
   ]
  },
  {
   "cell_type": "markdown",
   "id": "cd7cf889",
   "metadata": {},
   "source": [
    "# Arrays\n",
    "- Podemos declarar arrays de una forma muy similar a la de matlab.\n",
    "- Para iterar sobre una lista y cambiar valores en concreto, debo usar la celda inferior.\n",
    "\n",
    "    ### Range():\n",
    "    Nos permite recoger los valores del intervalo [0,input].\n",
    "    ### Len():\n",
    "    Devuelve el número de elementos de un array.\n",
    "    ### insert():\n",
    "    Permite introducir un valor en la posicion deseada. Debo pasarle la posición a introducir y el valor. Este método no solapa, por lo que si hay valores en esa posicion va a desplazarlos a la derecha."
   ]
  },
  {
   "cell_type": "code",
   "execution_count": null,
   "id": "a6e00e18",
   "metadata": {},
   "outputs": [],
   "source": [
    "Mi_Array = [1, 5 ,8 ,9, 4, 5 ,7 ,8 ,9, 20, 24 ]\n",
    "rango = range(len(Mi_Array))\n",
    "print(\"Array original\",Mi_Array,\"y su rango es:\",rango,\"\\n\")\n",
    "\n",
    "Mi_Array.insert(2,500)\n",
    "rango = range(len(Mi_Array))\n",
    "print(\"Tras instroducir el valor 500 en la posición 2, el array es asi:\",Mi_Array)\n",
    "print(\"Su nuevo rango es\",rango,\"\\n\")\n",
    "print(\"Introduzco el 10 en todas aquellas posiciones mayores o iguales a 8....\")   \n",
    "for indice in range(len(Mi_Array)):\n",
    "    if Mi_Array[indice] >= 8:\n",
    "        Mi_Array[indice] = 10\n",
    "        \n",
    "print(\"Ahora mi array tiene esta forma\",Mi_Array,\"\\n\")"
   ]
  },
  {
   "cell_type": "markdown",
   "id": "92bc628b",
   "metadata": {},
   "source": [
    "### Otros métodos en arrays\n",
    "\n",
    "   - append(): \n",
    "       Añade al final de un array un elemento.\n",
    "   - pop():\n",
    "       Elimina el valor de la posición que digamos.\n",
    "   - remove():\n",
    "       Elimina el primer elemento con ese valor. Si el elemento a eliminar no está en la lista da un error.\n",
    "   - count(): Devuelve el número de veces que está el elemento determiado en la lísta.\n",
    "   "
   ]
  },
  {
   "cell_type": "code",
   "execution_count": null,
   "id": "7f63088d",
   "metadata": {},
   "outputs": [],
   "source": [
    "lista_inicial = [1, 5, 8, 4,5,8 ,7, 8, 5,7, 6, 4, 2, 3]\n",
    "numero_ochos  = lista_inicial.count(8)\n",
    "print(\"Inicialmente el número 8 aparece:\",numero_ochos,\"veces en la lísta, y la longitud de la lista es\",len(lista_inicial))\n",
    "\n",
    "lista_inicial.append(1492)\n",
    "lista_inicial.pop(3)\n",
    "lista_inicial.remove(8)\n",
    "\n",
    "numero_ochos  = lista_inicial.count(8)\n",
    "print(\"Finalmente el número 8 aparece:\",numero_ochos,\"veces en la lísta y la longitud de la lista es\",len(lista_inicial))"
   ]
  },
  {
   "cell_type": "markdown",
   "id": "4debd357",
   "metadata": {},
   "source": [
    "# Funciones\n",
    "\n",
    "\n",
    " Para llamar a una función debemos haberla declarado antes y luego llamarla con el nombre de la función seguida de paréntesis.\n",
    " \n",
    "         nombre_funcion()\n",
    "         \n",
    " Podemos devolver valores de nuestra función mediante el uso de return.  Este valor retornado puede ser una cadena de valores\n",
    " \n",
    "         return valor_a_devolver        \n"
   ]
  },
  {
   "cell_type": "code",
   "execution_count": null,
   "id": "e0421da2",
   "metadata": {},
   "outputs": [],
   "source": [
    "def funcion_saludo():\n",
    "  print(\"Esta función te manda saludos\")\n",
    "funcion_saludo()\n",
    "\n",
    "def calculo_flecha(distancia_1,distancia_2):\n",
    "    flecha = (distancia_1*distancia_2)/(2*6370000*(4/3))\n",
    "    return flecha\n",
    "flecha_calculada = calculo_flecha(2100,5200)\n",
    "\n",
    "print(\"La flecha calculada es:\", flecha_calculada)\n",
    "def calculo_cuadrado_y_doble(numero):\n",
    "    cuadrado = numero*numero\n",
    "    doble = 2*numero\n",
    "    return cuadrado, doble\n",
    "numero = 5\n",
    "numero_tratado = calculo_cuadrado_y_doble(numero)\n",
    "print(\"El número\",5,\"tiene como cuadrado\",numero_tratado[0], \"y como doble\",numero_tratado[1])"
   ]
  },
  {
   "cell_type": "markdown",
   "id": "1beb6d38",
   "metadata": {},
   "source": [
    "# Diccionarios\n",
    "Los diccionarios son estructuras que nos permiten recoger información mediante identificadores clave previamente detallados.  \n",
    "Podemos declarar un diccionario de la siguiente forma:\n",
    "            \n",
    "           nombre_diccionario = {}\n",
    "            \n",
    "En el diccionario de a continuación tenemos como identificadores clave \"Marca\", \"Modelo\" y \"Año\". Los identificadores clave deben cumplir la siguiente sintaxis:\n",
    "            \n",
    "            \"Nombre_identificador_1\": Valor_1, \"Nombre_identificador_2\": Valor_2  \n",
    "            "
   ]
  },
  {
   "cell_type": "code",
   "execution_count": null,
   "id": "301b59da",
   "metadata": {},
   "outputs": [],
   "source": [
    "diccionario_coches = {\n",
    "  \"Marca\": \"Ford\",\n",
    "  \"Modelo\": \"Mustang\",\n",
    "  \"Año\": 1964\n",
    "}\n",
    "print(diccionario_coches,\"\\n\")\n",
    "print(\"El modelo del coche es\",diccionario_coches[\"Modelo\"],\"\\n\")"
   ]
  },
  {
   "cell_type": "markdown",
   "id": "cd97cde5",
   "metadata": {},
   "source": [
    "#### Manipulacion de diccionarios\n",
    "- Podemos acceder a un tipo concreto de identificador clave mediante de esta forma:\n",
    "\n",
    "            print(nombre_diccionario[\"Nombre_identificador\"])\n",
    "            \n",
    "- Podemos aplicar ciertos métodos vistos en la sección de arrays como lo son el método \"len()\".  \n",
    "\n",
    "- Los diccionarios pueden tomar cualquier tipo de dato como valor de un identificador.\n",
    "- Desde la versión \"python 3.7\", los diccionarios son modificables, lo que implica que podemos  cambiar, añadir o eliminar entradas en el diccionario tras haberlo declarado.\n",
    "        - La duplicación de identificadores solapará el anterior por el nuevo.\n",
    " ##### Metodos de diccionarios       \n",
    "        - pop(): Nos permite eliminar una entrada deseada.\n",
    "        - popitem(): Elimina la última entrada.\n",
    "        - del: Es una \"KeyWord\" que elimina el valor del identificador deseado.\n",
    "        - clear(): Borra por completo el diccionario.\n"
   ]
  },
  {
   "cell_type": "code",
   "execution_count": null,
   "id": "b9d0a7a6",
   "metadata": {},
   "outputs": [],
   "source": [
    " diccionario_coches = {\n",
    "  \"Marca\": \"Ford\",\n",
    "  \"Modelo\": \"Mustang\",\n",
    "  \"Año\": 1964,\n",
    "  \"Año\": 2000\n",
    "}\n",
    "print(\"Como ves, hemos solapado el Año 1964\",diccionario_coches, \"\\n\")\n",
    "\n",
    "diccionario_coches[\"Año\"] = 1964\n",
    "print(\"Tras esta línea, lo hemos arreglado añadiendo el campo de nuevo\",diccionario_coches, \"\\n\")\n",
    "\n",
    "diccionario_coches[\"Nuevo\"] = \"No\"\n",
    "print(\"Ahora hemos añadido un campo al diccionario igual que antes\",diccionario_coches, \"\\n\")\n",
    "\n",
    "diccionario_coches.pop(\"Modelo\")\n",
    "print(\"Hemos eliminado la entrada Modelo\",diccionario_coches, \"\\n\")\n",
    "\n",
    "del diccionario_coches[\"Nuevo\"]\n",
    "print(\"Hemos eliminado la entrada Nuevo\",diccionario_coches, \"\\n\")\n",
    "\n",
    "diccionario_estudiantes = {\n",
    "  \"Nombre estudiante\": \"Aitor\",\n",
    "  \"Nuevo egresado\": False,\n",
    "  \"Año entrada\": 2018,\n",
    "  \"Estudios\": [\"UAH\", \"Politecnico\", \"GIST\"]\n",
    "}\n",
    "print(\"Esto es un ejemplo de un diccionario con multiples tipos  de datos\"+\"\\n\",diccionario_estudiantes)"
   ]
  },
  {
   "cell_type": "markdown",
   "id": "e397fb05",
   "metadata": {},
   "source": [
    "# Manipulacion de archivos"
   ]
  },
  {
   "cell_type": "markdown",
   "id": "daac63c3",
   "metadata": {},
   "source": [
    "  #### Comandos a usar en open()\n",
    "  \n",
    "- \"x\": Crea un archivo, pero devuelve un error si ya existe.\n",
    "- \"a\": Crea un archivo en caso de que no exista y escribe al final del documento.\n",
    "- \"w\": Crea un archivo y escribe en caso de que no exista y sobreescribe el archivo."
   ]
  },
  {
   "cell_type": "code",
   "execution_count": null,
   "id": "b7d89a7c",
   "metadata": {
    "scrolled": false
   },
   "outputs": [],
   "source": [
    "File = open(\"archivo_vacio.txt\", \"a\")\n",
    "\n",
    "File.write(\"Now the file has more content!\"+\"\\n\")\n",
    "File.close()"
   ]
  },
  {
   "cell_type": "code",
   "execution_count": null,
   "id": "06f2e337",
   "metadata": {},
   "outputs": [],
   "source": [
    "file = open(\"archivo_vacio.txt\",\"r\")\n",
    "\n",
    "archivo_texto = pd.read_csv(\"archivo_vacio.txt\")\n",
    "\n",
    "archivo_texto"
   ]
  },
  {
   "cell_type": "markdown",
   "id": "13282950",
   "metadata": {},
   "source": [
    "# Aplicacion\n",
    "Para poder hacer interfaces, usamos la librería Tinker.\n",
    "- resizable(): Es una funcion que admite dos valores boleanos. Nos permite elegir si el ancho, el alto, o ambos se pueden cambiar (True) o no (False.)\n",
    " #### Icono\n",
    "     - Podemos cambiar iconos con la funcion iconbitmap() si le paso por parámetro la dirección y nombre del archivo en formato .ico"
   ]
  },
  {
   "cell_type": "code",
   "execution_count": null,
   "id": "8d40cd37",
   "metadata": {},
   "outputs": [],
   "source": [
    "from tkinter import *\n",
    "\n",
    "raiz =Tk()\n",
    "altura_pantalla  = raiz.winfo_screenheight()\n",
    "anchura_pantalla = raiz.winfo_screenwidth()\n",
    "raiz.title(\"Ventana de prueba\")\n",
    "\n",
    "# El primer numero es width y el segundo heigt. Son valores booleanos. En 0 implica que no se puedan cambiar las dimensiones\n",
    "raiz.resizable(True,True)\n",
    "\n",
    "def centrar(r): # Esta funcion centra la pantalla\n",
    "    altura  = r.winfo_reqheight()\n",
    "    anchura = r.winfo_reqwidth()\n",
    "    \n",
    "    x = (anchura_pantalla // 2) - (anchura//2)\n",
    "    y = (altura_pantalla//2) - (altura//2)\n",
    "    r.geometry(f\"+{x}+{y}\")\n",
    "centrar(raiz)\n",
    "\n",
    "\n",
    "raiz.mainloop()"
   ]
  },
  {
   "cell_type": "code",
   "execution_count": null,
   "id": "a220180b",
   "metadata": {},
   "outputs": [],
   "source": []
  }
 ],
 "metadata": {
  "kernelspec": {
   "display_name": "Python 3 (ipykernel)",
   "language": "python",
   "name": "python3"
  },
  "language_info": {
   "codemirror_mode": {
    "name": "ipython",
    "version": 3
   },
   "file_extension": ".py",
   "mimetype": "text/x-python",
   "name": "python",
   "nbconvert_exporter": "python",
   "pygments_lexer": "ipython3",
   "version": "3.10.0"
  },
  "varInspector": {
   "cols": {
    "lenName": 16,
    "lenType": 16,
    "lenVar": 40
   },
   "kernels_config": {
    "python": {
     "delete_cmd_postfix": "",
     "delete_cmd_prefix": "del ",
     "library": "var_list.py",
     "varRefreshCmd": "print(var_dic_list())"
    },
    "r": {
     "delete_cmd_postfix": ") ",
     "delete_cmd_prefix": "rm(",
     "library": "var_list.r",
     "varRefreshCmd": "cat(var_dic_list()) "
    }
   },
   "position": {
    "height": "812.844px",
    "left": "1549px",
    "right": "20px",
    "top": "111px",
    "width": "350px"
   },
   "types_to_exclude": [
    "module",
    "function",
    "builtin_function_or_method",
    "instance",
    "_Feature"
   ],
   "window_display": true
  }
 },
 "nbformat": 4,
 "nbformat_minor": 5
}
