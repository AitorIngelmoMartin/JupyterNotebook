{
 "cells": [
  {
   "cell_type": "markdown",
   "id": "8fc9ef72",
   "metadata": {},
   "source": [
    "### Importar librerias:\n",
    " - pip install \"libreria\" para instalar en el ordenador.\n",
    " - import \"librería\" as \"abreviación deseada\" para trabajar con ella."
   ]
  },
  {
   "cell_type": "code",
   "execution_count": 13,
   "id": "67428b98",
   "metadata": {},
   "outputs": [],
   "source": [
    "import numpy  as np\n",
    "import pandas as pd"
   ]
  },
  {
   "cell_type": "markdown",
   "id": "e758acd8",
   "metadata": {},
   "source": [
    "# Variables\n",
    "- En python no hay comandos para declarar variables, simplemente asigno el nombre a un valor.\n",
    "- Podemos cambiar el tipo de una variable despues de haberla declarado.\n",
    "- Python ahce diferenciación entre mayusculas y minúscolas"
   ]
  },
  {
   "cell_type": "code",
   "execution_count": 14,
   "id": "3bc6b5ad",
   "metadata": {},
   "outputs": [
    {
     "name": "stdout",
     "output_type": "stream",
     "text": [
      "Inicialmente la  variable tiene el valor de: 25\n",
      "Ahora la  variable tiene el valor de:casa\n",
      "La variable A es: 5 Y la a es: 65\n"
     ]
    }
   ],
   "source": [
    "variable_entera = 25\n",
    "print(\"Inicialmente la  variable tiene el valor de:\",variable_entera) #Para concatenar variables numericas uso \",\"\n",
    "variable_entera = \"casa\"\n",
    "print(\"Ahora la  variable tiene el valor de:\"+variable_entera) #Para concatenar variables de texto uso \",\"\n",
    "\n",
    "A = 5\n",
    "a = 65\n",
    "\n",
    "print(\"La variable A es:\",A,\"Y la a es:\",a)"
   ]
  },
  {
   "cell_type": "markdown",
   "id": "6facfb9a",
   "metadata": {},
   "source": [
    "---------------------------------------------------------------------------------------------------\n",
    "---------------------------------------------------------------------------------------------------\n",
    "Podemos fijar el tipo de una variable haciendo un casting como en la siguiente celda"
   ]
  },
  {
   "cell_type": "code",
   "execution_count": 15,
   "id": "5bd80cb0",
   "metadata": {},
   "outputs": [
    {
     "name": "stdout",
     "output_type": "stream",
     "text": [
      "3 3 3.0\n"
     ]
    }
   ],
   "source": [
    "x = str(3)    # x  es una cadena de valor '3'\n",
    "y = int(3)    # y  es un entero de valor   3\n",
    "z = float(3)  # z es un float de valor     3.0\n",
    "print(x,y,z)"
   ]
  },
  {
   "cell_type": "markdown",
   "id": "92ed052f",
   "metadata": {},
   "source": [
    "---------------------------------------------------------------------------------------------------\n",
    "---------------------------------------------------------------------------------------------------\n",
    "Podemos obtener el tipo de variable con la función \"type()\""
   ]
  },
  {
   "cell_type": "code",
   "execution_count": 16,
   "id": "3a315caa",
   "metadata": {},
   "outputs": [
    {
     "name": "stdout",
     "output_type": "stream",
     "text": [
      "El tipo de dato de x es <class 'str'> el de y: <class 'int'> y el de z <class 'float'>\n"
     ]
    }
   ],
   "source": [
    "dato_x = type(x)\n",
    "dato_y = type(y)\n",
    "dato_z = type(z)\n",
    "print(\"El tipo de dato de x es\",dato_x, \"el de y:\",dato_y, \"y el de z\",dato_z)"
   ]
  },
  {
   "cell_type": "markdown",
   "id": "31fab73c",
   "metadata": {},
   "source": [
    "### Formas de llamado a variables"
   ]
  },
  {
   "cell_type": "code",
   "execution_count": 17,
   "id": "226af0b2",
   "metadata": {},
   "outputs": [],
   "source": [
    "#Camel Case - Cada palabra menos la primera empieza por mayúscula:\n",
    "\n",
    "myVariableName = \"John\"\n",
    "\n",
    "#Pascal Case - Cada palabra empieza por mayúscula:\n",
    "\n",
    "MyVariableName = \"John\"\n",
    "\n",
    "#Snake Case - Cada palabra está separada por una barra baja:\n",
    "\n",
    "my_variable_name = \"John\""
   ]
  },
  {
   "cell_type": "markdown",
   "id": "cd7cf889",
   "metadata": {},
   "source": [
    "# Arrays\n",
    "- Podemos declarar arrays de una forma muy similar a la de matlab.\n",
    "- Para iterar sobre una lista y cambiar valores en concreto, debo usar la celda inferior.\n",
    "\n",
    "    ### Range():\n",
    "    Es el equivalente a decir los valores de uno en uno desde en el intervalo [0,input-1]. Es por esto que nos permite recorres todos los elementos. \n",
    "    ### Len():\n",
    "    Devuelve el número de elementos de un array.\n",
    "https://www.w3schools.com/python/python_variables_multiple.asp"
   ]
  },
  {
   "cell_type": "code",
   "execution_count": 18,
   "id": "a6e00e18",
   "metadata": {},
   "outputs": [
    {
     "name": "stdout",
     "output_type": "stream",
     "text": [
      "[1, 5, 10, 10, 4, 5, 7, 10, 10, 10, 10]\n"
     ]
    }
   ],
   "source": [
    "Mi_Array = [1, 5 ,8 ,9, 4, 5 ,7 ,8 ,9, 20, 24 ]\n",
    "\n",
    "for indice in range(len(Mi_Array)):\n",
    "    if Mi_Array[indice] >= 8:\n",
    "        Mi_Array[indice] = 10\n",
    "        \n",
    "print(Mi_Array)"
   ]
  },
  {
   "cell_type": "code",
   "execution_count": 19,
   "id": "074d9807",
   "metadata": {},
   "outputs": [
    {
     "name": "stdout",
     "output_type": "stream",
     "text": [
      "[1 2 3]\n",
      "[[1 2 3]\n",
      " [4 5 6]]\n"
     ]
    }
   ],
   "source": [
    "# Array de una dimensión\n",
    "a1 = np.array([1, 2, 3])\n",
    "print(a1)\n",
    "# Array de dos dimensiones\n",
    "a2 = np.array([[1, 2, 3], [4, 5, 6]])\n",
    "print(a2)"
   ]
  },
  {
   "cell_type": "markdown",
   "id": "8fce504f",
   "metadata": {},
   "source": [
    "# Sentencias if"
   ]
  },
  {
   "cell_type": "code",
   "execution_count": 20,
   "id": "096589c1",
   "metadata": {},
   "outputs": [
    {
     "name": "stdout",
     "output_type": "stream",
     "text": [
      "Diego tiene más edad que Aitor\n"
     ]
    }
   ],
   "source": [
    "Aitor = 20\n",
    "Diego = 22\n",
    "\n",
    "if Aitor > Diego:\n",
    "    print(\"Aitor tiene más edad que Diego\")\n",
    "else:\n",
    "    print(\"Diego tiene más edad que Aitor\")"
   ]
  },
  {
   "cell_type": "markdown",
   "id": "e397fb05",
   "metadata": {},
   "source": [
    "### Manipulacion de archivos"
   ]
  },
  {
   "cell_type": "code",
   "execution_count": 21,
   "id": "06f2e337",
   "metadata": {},
   "outputs": [
    {
     "data": {
      "text/html": [
       "<div>\n",
       "<style scoped>\n",
       "    .dataframe tbody tr th:only-of-type {\n",
       "        vertical-align: middle;\n",
       "    }\n",
       "\n",
       "    .dataframe tbody tr th {\n",
       "        vertical-align: top;\n",
       "    }\n",
       "\n",
       "    .dataframe thead th {\n",
       "        text-align: right;\n",
       "    }\n",
       "</style>\n",
       "<table border=\"1\" class=\"dataframe\">\n",
       "  <thead>\n",
       "    <tr style=\"text-align: right;\">\n",
       "      <th></th>\n",
       "      <th>En ruta deseada usar este orden de comandos</th>\n",
       "      <th>o los dos juntos con &amp;&amp;:</th>\n",
       "    </tr>\n",
       "  </thead>\n",
       "  <tbody>\n",
       "    <tr>\n",
       "      <th>0</th>\n",
       "      <td>1) pip install jupyter_contrib_nbextensions</td>\n",
       "      <td>NaN</td>\n",
       "    </tr>\n",
       "    <tr>\n",
       "      <th>1</th>\n",
       "      <td>2) jupyter contrib nbextension install</td>\n",
       "      <td>NaN</td>\n",
       "    </tr>\n",
       "  </tbody>\n",
       "</table>\n",
       "</div>"
      ],
      "text/plain": [
       "   En ruta deseada usar este orden de comandos   o los dos juntos con &&:\n",
       "0  1) pip install jupyter_contrib_nbextensions                        NaN\n",
       "1       2) jupyter contrib nbextension install                        NaN"
      ]
     },
     "execution_count": 21,
     "metadata": {},
     "output_type": "execute_result"
    }
   ],
   "source": [
    "file = open(\"Añadir extensiones.txt\",\"r\")\n",
    "\n",
    "archivo_texto = pd.read_csv(\"Añadir extensiones.txt\")\n",
    "\n",
    "archivo_texto"
   ]
  },
  {
   "cell_type": "markdown",
   "id": "daac63c3",
   "metadata": {},
   "source": [
    "  #### Creación de archivos\n",
    "  \n",
    "- \"x\": Crea un archivo, pero devuelve un error si ya existe.\n",
    "- \"a\": Crea un archivo en caso de que no exista y escribe al final del documento.\n",
    "- \"w\": Crea un archivo y escribe en caso de que no exista y sobreescribe el archivo."
   ]
  },
  {
   "cell_type": "code",
   "execution_count": 22,
   "id": "b7d89a7c",
   "metadata": {
    "scrolled": false
   },
   "outputs": [],
   "source": [
    "File = open(\"archivo_vacio.txt\", \"a\")\n",
    "\n",
    "File.write(\"Now the file has more content!\")\n",
    "File.close()"
   ]
  },
  {
   "cell_type": "code",
   "execution_count": null,
   "id": "6049b372",
   "metadata": {},
   "outputs": [],
   "source": []
  },
  {
   "cell_type": "code",
   "execution_count": null,
   "id": "33ad16c2",
   "metadata": {},
   "outputs": [],
   "source": []
  },
  {
   "cell_type": "code",
   "execution_count": null,
   "id": "25e12b16",
   "metadata": {},
   "outputs": [],
   "source": []
  },
  {
   "cell_type": "code",
   "execution_count": null,
   "id": "e896b4fe",
   "metadata": {},
   "outputs": [],
   "source": []
  }
 ],
 "metadata": {
  "kernelspec": {
   "display_name": "Python 3 (ipykernel)",
   "language": "python",
   "name": "python3"
  },
  "language_info": {
   "codemirror_mode": {
    "name": "ipython",
    "version": 3
   },
   "file_extension": ".py",
   "mimetype": "text/x-python",
   "name": "python",
   "nbconvert_exporter": "python",
   "pygments_lexer": "ipython3",
   "version": "3.10.0"
  },
  "varInspector": {
   "cols": {
    "lenName": 16,
    "lenType": 16,
    "lenVar": 40
   },
   "kernels_config": {
    "python": {
     "delete_cmd_postfix": "",
     "delete_cmd_prefix": "del ",
     "library": "var_list.py",
     "varRefreshCmd": "print(var_dic_list())"
    },
    "r": {
     "delete_cmd_postfix": ") ",
     "delete_cmd_prefix": "rm(",
     "library": "var_list.r",
     "varRefreshCmd": "cat(var_dic_list()) "
    }
   },
   "position": {
    "height": "812.844px",
    "left": "1549px",
    "right": "20px",
    "top": "111px",
    "width": "350px"
   },
   "types_to_exclude": [
    "module",
    "function",
    "builtin_function_or_method",
    "instance",
    "_Feature"
   ],
   "window_display": true
  }
 },
 "nbformat": 4,
 "nbformat_minor": 5
}
