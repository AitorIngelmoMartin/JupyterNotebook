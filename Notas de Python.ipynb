{
 "cells": [
  {
   "cell_type": "markdown",
   "id": "8fc9ef72",
   "metadata": {},
   "source": [
    "## Importar librerias:\n",
    " - pip install \"libreria\" para instalar en el ordenador.\n",
    " - import \"librería\" as \"abreviación deseada\" para trabajar con ella."
   ]
  },
  {
   "cell_type": "code",
   "execution_count": 17,
   "id": "67428b98",
   "metadata": {},
   "outputs": [],
   "source": [
    "import numpy  as np\n",
    "import pandas as pd"
   ]
  },
  {
   "cell_type": "markdown",
   "id": "31fab73c",
   "metadata": {},
   "source": [
    "# Nombrado de variables\n",
    "\n",
    " Existen varios formatos posibles para declarar variables, estos 3 son los más famosos y aceptados."
   ]
  },
  {
   "cell_type": "code",
   "execution_count": 21,
   "id": "226af0b2",
   "metadata": {},
   "outputs": [],
   "source": [
    "#Camel Case - Cada palabra menos la primera empieza por mayúscula:\n",
    "myVariableName = \"John\"\n",
    "\n",
    "#Pascal Case - Cada palabra empieza por mayúscula:\n",
    "MyVariableName = \"John\"\n",
    "\n",
    "#Snake Case - Cada palabra está separada por una barra baja:\n",
    "my_variable_name = \"John\""
   ]
  },
  {
   "cell_type": "markdown",
   "id": "e758acd8",
   "metadata": {},
   "source": [
    "# Variables\n",
    "- En python no hay comandos para declarar variables, simplemente asigno el nombre a un valor.\n",
    "-    Podemos cambiar el tipo de una variable despues de haberla declarado.\n",
    "-    Python ahce diferenciación entre mayusculas y minúscolas."
   ]
  },
  {
   "cell_type": "code",
   "execution_count": 18,
   "id": "3bc6b5ad",
   "metadata": {},
   "outputs": [
    {
     "name": "stdout",
     "output_type": "stream",
     "text": [
      "Inicialmente la  variable tiene el valor de: 25\n",
      "Ahora la  variable tiene el valor de:casa\n",
      "La variable A es: 5 Y la a es: 65\n"
     ]
    }
   ],
   "source": [
    "variable_entera = 25\n",
    "print(\"Inicialmente la  variable tiene el valor de:\",variable_entera)\n",
    "variable_entera = \"casa\"\n",
    "print(\"Ahora la  variable tiene el valor de:\"+variable_entera)\n",
    "A = 5\n",
    "a = 65\n",
    "print(\"La variable A es:\",A,\"Y la a es:\",a)"
   ]
  },
  {
   "cell_type": "markdown",
   "id": "6facfb9a",
   "metadata": {},
   "source": [
    "- Podemos fijar el tipo de una variable haciendo un casting como en la siguiente celda\n",
    "- Tambien tenemos la obción de obtener el tipo de variable con la función \"type()\""
   ]
  },
  {
   "cell_type": "code",
   "execution_count": 42,
   "id": "5bd80cb0",
   "metadata": {},
   "outputs": [
    {
     "name": "stdout",
     "output_type": "stream",
     "text": [
      "3 3 3.0\n",
      "El tipo de dato de x es <class 'str'> el de y: <class 'int'> y el de z <class 'float'>\n"
     ]
    }
   ],
   "source": [
    "x = str(3)    # x  es una cadena de valor '3'\n",
    "y = int(3)    # y  es un entero de valor   3\n",
    "z = float(3)  # z es un float de valor     3.0\n",
    "print(x,y,z)\n",
    "\n",
    "dato_x = type(x)\n",
    "dato_y = type(y)\n",
    "dato_z = type(z)\n",
    "print(\"El tipo de dato de x es\",dato_x, \"el de y:\",dato_y, \"y el de z\",dato_z)"
   ]
  },
  {
   "cell_type": "markdown",
   "id": "4d2c8257",
   "metadata": {},
   "source": [
    "# Print\n",
    "El comando print nos permite imprimir el valor de variables o texto plano.\n",
    "- Podemos concatenar variables con print de la forma:\n",
    "         print(variable_1, variable_2)\n",
    "- Podemos concatenar variables con texto de la firna:\n",
    "         print(variable_1 +\"texto\",variable_2)\n",
    "- Podemos concatenar texto de la forma:\n",
    "         print(\"Texto\" + \" \" + variable_texto)\n",
    "Es buena costumbre poner un \"\\n\" tras cada print. Esto nos permite insertar un salto de línea."
   ]
  },
  {
   "cell_type": "code",
   "execution_count": 45,
   "id": "3c1bacaa",
   "metadata": {},
   "outputs": [
    {
     "name": "stdout",
     "output_type": "stream",
     "text": [
      "Esto es una cadena de texto\n",
      "La variable numérica es: 687515 , mientras que la 2 es: 687965\n",
      "Nuestra cadena de texto puede ser impresa junto a la variable: 687515\n",
      "No es lo mismo decir cadena de texto que Esto es una cadena de texto\n"
     ]
    }
   ],
   "source": [
    "cadena_texto    = \"Esto es una cadena de texto\"\n",
    "cadena_auxiliar = \"cadena de texto\"\n",
    "variale_numerica_1 = 687515\n",
    "variale_numerica_2 = 687965\n",
    "\n",
    "print(cadena_texto)\n",
    "print(\"La variable numérica es:\",variale_numerica_1,\", mientras que la 2 es:\",variale_numerica_2)\n",
    "print(\"Nuestra\",cadena_auxiliar, \"puede ser impresa junto a la variable:\",variale_numerica_1)\n",
    "\n",
    "# Las comillas varías dan el espacio entre cadenas\n",
    "print(\"No es lo mismo decir\" + \" \" + cadena_auxiliar + \" que \" + cadena_texto) "
   ]
  },
  {
   "cell_type": "markdown",
   "id": "8fce504f",
   "metadata": {},
   "source": [
    "# Sentencias if\n",
    "   - Operadores lógicos\n",
    "        - or: Se usa cuando quieres cumplir una de las condiciones estudiadas\n",
    "        - and: Se usa cuando se deben cumplir todas las condiciones estudiadas\n",
    "        - not: Resuelve la sentencia lógica y la invierte"
   ]
  },
  {
   "cell_type": "code",
   "execution_count": 47,
   "id": "096589c1",
   "metadata": {},
   "outputs": [
    {
     "name": "stdout",
     "output_type": "stream",
     "text": [
      "La variable_B es mayor que la variable_A\n",
      "Se ha ejecutado la and\n",
      "Se ha ejecutado el or\n",
      "Se ha ejecutado el not\n"
     ]
    }
   ],
   "source": [
    "variable_A = 20\n",
    "variable_B = 22\n",
    "variable_C = 80\n",
    "variable_D = 2\n",
    "\n",
    "if variable_A > variable_B:\n",
    "    print(\"La variable_A es mayor que la variable_B\")\n",
    "else:\n",
    "    print(\"La variable_B es mayor que la variable_A\")\n",
    "    \n",
    "if (variable_A<variable_B) and (variable_C>variable_D):\n",
    "    print(\"Se ha ejecutado la and\")\n",
    "if (variable_A<variable_B) or (variable_C<variable_D):\n",
    "    print(\"Se ha ejecutado el or\")\n",
    "if (not((variable_A>variable_B) or (variable_C<variable_D))):\n",
    "    print(\"Se ha ejecutado el not\")"
   ]
  },
  {
   "cell_type": "markdown",
   "id": "29b15a4d",
   "metadata": {},
   "source": [
    "# Sentencia For\n",
    "  - Gracias a los bucles for podemos recorres arrays y manipularlos.\n",
    "  \n",
    "  - En los bucles \"for\" solemos tener una variable auxiliar (\"x\" en la celda de abajo) que nos permite interactuar con los elementos de la lísta.\n",
    "  \n",
    "  - La peculiaridad de esta variable es que en si es un puntero que va cambiando su dirección a las diferentes posiciones de memoria que contienen los elementos de la lísta. Por lo que si imprimo esta variable al final tendrá el valor de la última dirección apuntada."
   ]
  },
  {
   "cell_type": "code",
   "execution_count": 33,
   "id": "1e9ed20a",
   "metadata": {},
   "outputs": [
    {
     "name": "stdout",
     "output_type": "stream",
     "text": [
      "Elemento_0\n",
      "Elemento_1\n",
      "Elemento_2\n",
      "El valor final de x es: Elemento_2\n"
     ]
    }
   ],
   "source": [
    "lista_a_imprimir = [\"Elemento_0\", \"Elemento_1\", \"Elemento_2\"]\n",
    "\n",
    "for x in lista_a_imprimir:\n",
    "  print(x)\n",
    "\n",
    "print(\"El valor final de x es:\",x)"
   ]
  },
  {
   "cell_type": "markdown",
   "id": "cd7cf889",
   "metadata": {},
   "source": [
    "# Arrays\n",
    "- Podemos declarar arrays de una forma muy similar a la de matlab.\n",
    "- Para iterar sobre una lista y cambiar valores en concreto, debo usar la celda inferior.\n",
    "\n",
    "    ### Range():\n",
    "    Es el equivalente a decir los valores de uno en uno desde en el intervalo [0,input-1]. Es por esto que nos permite recorres todos los elementos. \n",
    "    ### Len():\n",
    "    Devuelve el número de elementos de un array."
   ]
  },
  {
   "cell_type": "code",
   "execution_count": 48,
   "id": "a6e00e18",
   "metadata": {},
   "outputs": [
    {
     "name": "stdout",
     "output_type": "stream",
     "text": [
      "[1, 5, 10, 10, 4, 5, 7, 10, 10, 10, 10]\n"
     ]
    }
   ],
   "source": [
    "Mi_Array = [1, 5 ,8 ,9, 4, 5 ,7 ,8 ,9, 20, 24 ]\n",
    "\n",
    "for indice in range(len(Mi_Array)):\n",
    "    if Mi_Array[indice] >= 8:\n",
    "        Mi_Array[indice] = 10\n",
    "        \n",
    "print(Mi_Array)\n"
   ]
  },
  {
   "cell_type": "markdown",
   "id": "92bc628b",
   "metadata": {},
   "source": [
    "### Otros métodos en arrays\n",
    "\n",
    "   - append(): \n",
    "       Añade al final de un array un elemento.\n",
    "   - pop():\n",
    "       Elimina el valor de la posición que digamos.\n",
    "   - remove():\n",
    "       Elimina el primer elemento con ese valor. Si el elemento a eliminar no está en la lista da un error.\n",
    "   - count():\n",
    "   "
   ]
  },
  {
   "cell_type": "code",
   "execution_count": 23,
   "id": "7f63088d",
   "metadata": {},
   "outputs": [
    {
     "name": "stdout",
     "output_type": "stream",
     "text": [
      "[1, 5, 5, 8, 7, 8, 5, 7, 6, 4, 2, 3, 1492] \n",
      "El número de 8 es: 2\n"
     ]
    }
   ],
   "source": [
    "lista_inicial = [1, 5, 8, 4,5,8 ,7, 8, 5,7, 6, 4, 2, 3]\n",
    "\n",
    "lista_inicial.append(1492)\n",
    "lista_inicial.pop(3)\n",
    "lista_inicial.remove(8)\n",
    "\n",
    "numero_8 = lista_inicial.count(8)\n",
    "print(lista_inicial,\"\\n\"+\"El número de 8 es:\",numero_8)"
   ]
  },
  {
   "cell_type": "markdown",
   "id": "4debd357",
   "metadata": {},
   "source": [
    "# Funciones\n",
    "\n",
    "\n",
    "  - Para llamar a una función debemos haberla declarado antes y luego llamarla con el nombre de la función seguida de paréntesis.\n",
    "         nombre_funcion()\n",
    "  - Podemos devolver valores de nuestra función mediante el uso de return\n",
    "         return valor_a_devolver\n",
    " - este valor retornado puede ser una cadena de valores"
   ]
  },
  {
   "cell_type": "code",
   "execution_count": 51,
   "id": "e0421da2",
   "metadata": {},
   "outputs": [
    {
     "name": "stdout",
     "output_type": "stream",
     "text": [
      "Hello from a function\n",
      "La flecha calculada es: 0.6428571428571429\n",
      "El número tiene como cuadrado 25 y como doble 10\n"
     ]
    }
   ],
   "source": [
    "def my_function():\n",
    "  print(\"Hello from a function\")\n",
    "my_function()\n",
    "\n",
    "def calculo_flecha(distancia_1,distancia_2):\n",
    "    flecha = (distancia_1*distancia_2)/(2*6370000*(4/3))\n",
    "    return flecha\n",
    "flecha_calculada = calculo_flecha(2100,5200)\n",
    "print(\"La flecha calculada es:\", flecha_calculada)\n",
    "def calculo_cuadrado_y_doble(numero):\n",
    "    cuadrado = numero*numero\n",
    "    doble = 2*numero\n",
    "    return cuadrado, doble\n",
    "numero_tratado = calculo_cuadrado_y_doble(5)\n",
    "print(\"El número tiene como cuadrado\",numero_tratado[0], \"y como doble\",numero_tratado[1])"
   ]
  },
  {
   "cell_type": "code",
   "execution_count": null,
   "id": "d5232250",
   "metadata": {},
   "outputs": [],
   "source": []
  },
  {
   "cell_type": "markdown",
   "id": "e397fb05",
   "metadata": {},
   "source": [
    "### Manipulacion de archivos"
   ]
  },
  {
   "cell_type": "code",
   "execution_count": 28,
   "id": "06f2e337",
   "metadata": {},
   "outputs": [
    {
     "data": {
      "text/html": [
       "<div>\n",
       "<style scoped>\n",
       "    .dataframe tbody tr th:only-of-type {\n",
       "        vertical-align: middle;\n",
       "    }\n",
       "\n",
       "    .dataframe tbody tr th {\n",
       "        vertical-align: top;\n",
       "    }\n",
       "\n",
       "    .dataframe thead th {\n",
       "        text-align: right;\n",
       "    }\n",
       "</style>\n",
       "<table border=\"1\" class=\"dataframe\">\n",
       "  <thead>\n",
       "    <tr style=\"text-align: right;\">\n",
       "      <th></th>\n",
       "      <th>En ruta deseada usar este orden de comandos</th>\n",
       "      <th>o los dos juntos con &amp;&amp;:</th>\n",
       "    </tr>\n",
       "  </thead>\n",
       "  <tbody>\n",
       "    <tr>\n",
       "      <th>0</th>\n",
       "      <td>1) pip install jupyter_contrib_nbextensions</td>\n",
       "      <td>NaN</td>\n",
       "    </tr>\n",
       "    <tr>\n",
       "      <th>1</th>\n",
       "      <td>2) jupyter contrib nbextension install</td>\n",
       "      <td>NaN</td>\n",
       "    </tr>\n",
       "  </tbody>\n",
       "</table>\n",
       "</div>"
      ],
      "text/plain": [
       "   En ruta deseada usar este orden de comandos   o los dos juntos con &&:\n",
       "0  1) pip install jupyter_contrib_nbextensions                        NaN\n",
       "1       2) jupyter contrib nbextension install                        NaN"
      ]
     },
     "execution_count": 28,
     "metadata": {},
     "output_type": "execute_result"
    }
   ],
   "source": [
    "file = open(\"Añadir extensiones.txt\",\"r\")\n",
    "\n",
    "archivo_texto = pd.read_csv(\"Añadir extensiones.txt\")\n",
    "\n",
    "archivo_texto"
   ]
  },
  {
   "cell_type": "markdown",
   "id": "daac63c3",
   "metadata": {},
   "source": [
    "  #### Creación de archivos\n",
    "  \n",
    "- \"x\": Crea un archivo, pero devuelve un error si ya existe.\n",
    "- \"a\": Crea un archivo en caso de que no exista y escribe al final del documento.\n",
    "- \"w\": Crea un archivo y escribe en caso de que no exista y sobreescribe el archivo."
   ]
  },
  {
   "cell_type": "code",
   "execution_count": 29,
   "id": "b7d89a7c",
   "metadata": {
    "scrolled": false
   },
   "outputs": [],
   "source": [
    "File = open(\"archivo_vacio.txt\", \"a\")\n",
    "\n",
    "File.write(\"Now the file has more content!\")\n",
    "File.close()"
   ]
  },
  {
   "cell_type": "code",
   "execution_count": null,
   "id": "087abef9",
   "metadata": {},
   "outputs": [],
   "source": []
  }
 ],
 "metadata": {
  "kernelspec": {
   "display_name": "Python 3 (ipykernel)",
   "language": "python",
   "name": "python3"
  },
  "language_info": {
   "codemirror_mode": {
    "name": "ipython",
    "version": 3
   },
   "file_extension": ".py",
   "mimetype": "text/x-python",
   "name": "python",
   "nbconvert_exporter": "python",
   "pygments_lexer": "ipython3",
   "version": "3.10.0"
  },
  "varInspector": {
   "cols": {
    "lenName": 16,
    "lenType": 16,
    "lenVar": 40
   },
   "kernels_config": {
    "python": {
     "delete_cmd_postfix": "",
     "delete_cmd_prefix": "del ",
     "library": "var_list.py",
     "varRefreshCmd": "print(var_dic_list())"
    },
    "r": {
     "delete_cmd_postfix": ") ",
     "delete_cmd_prefix": "rm(",
     "library": "var_list.r",
     "varRefreshCmd": "cat(var_dic_list()) "
    }
   },
   "position": {
    "height": "812.844px",
    "left": "1549px",
    "right": "20px",
    "top": "111px",
    "width": "350px"
   },
   "types_to_exclude": [
    "module",
    "function",
    "builtin_function_or_method",
    "instance",
    "_Feature"
   ],
   "window_display": true
  }
 },
 "nbformat": 4,
 "nbformat_minor": 5
}
