{
 "cells": [
  {
   "cell_type": "markdown",
   "id": "39e64b63",
   "metadata": {},
   "source": [
    "# **¿Qué es este Notebook?**\n",
    "Este notebook va a recojer toda la información recabada a partir de la documentación oficial, libros y diversos materiales digitales con el fin de entender la libraría TKInter.\n",
    "\n",
    "## Objetivos para este Notebook\n",
    "    - Hacer un formulario con gestión de datos.\n",
    "    - Hacer una aplicacion de escritorio para el control de gastos.\n",
    "    - Hacer el esqueleto de una aplicacion basada en el juego \"Yo nunca\"."
   ]
  },
  {
   "cell_type": "markdown",
   "id": "328a49e3",
   "metadata": {},
   "source": [
    "#### Explicacion esqueleto TKinter\n",
    "\n",
    "- Para crear una interfaz, debemos importar la librería tkinter completa (con el \"*\"), y el recurso ttk.\n",
    "        from tkinter import *\n",
    "        from tkinter import ttk"
   ]
  },
  {
   "cell_type": "code",
   "execution_count": 5,
   "id": "63db604e",
   "metadata": {},
   "outputs": [],
   "source": [
    "from tkinter import *\n",
    "from tkinter import ttk\n",
    "\n",
    "root = Tk()\n",
    "frm  = ttk.Frame(root, padding=10)\n",
    "frm.grid()\n",
    "ttk.Label(frm, text  =\"Hello World!\").grid(column=0, row=0)\n",
    "ttk.Button(frm, text =\"Quit\", command=root.destroy).grid(column=1, row=0)\n",
    "root.mainloop()"
   ]
  },
  {
   "cell_type": "markdown",
   "id": "6126e07a",
   "metadata": {},
   "source": [
    "Después de las declaraciones de import, lo siguiente es crear la instancia de la clase Tk la cual iniciativa Tk y crea el interprete asociado a Tcl. Esto también crea una ventana de nivel superior conocida como \"ventana raíz\". Esta ventana sirve como la ventana principal de la aplicación.\n",
    "\n",
    "        root = Tk()\n",
    "\n",
    "En la siguiente línea se crea el marco del widget. En este caso contiene la etiqueta y un botón que crearemos después. El marco encaja dentro de la ventana raíz.\n",
    "\n",
    "        frm  = ttk.Frame(root, padding=10)\n",
    "        \n",
    "La próxima línea crea una etiqueta para el widget que contiene una cadena de texto estática. El método grid() es usado para especificar la posición del diseño de la etiqueta que está dentro del marco del widget, similar a como trabajan las tablas en HTML.\n",
    "\n",
    "Es entonces cuando el botón del widget es creado y dejado a la derecha de la etiqueta. Una vez pulsado llamará al método destroy() de la ventana raíz.\n",
    "\n",
    "Finalmente el método mainloop() muestra todo en pantalla y responde a la entrada del usuario hasta que el programa termina."
   ]
  },
  {
   "cell_type": "code",
   "execution_count": null,
   "id": "e897569a",
   "metadata": {},
   "outputs": [],
   "source": []
  }
 ],
 "metadata": {
  "kernelspec": {
   "display_name": "Python 3 (ipykernel)",
   "language": "python",
   "name": "python3"
  },
  "language_info": {
   "codemirror_mode": {
    "name": "ipython",
    "version": 3
   },
   "file_extension": ".py",
   "mimetype": "text/x-python",
   "name": "python",
   "nbconvert_exporter": "python",
   "pygments_lexer": "ipython3",
   "version": "3.10.0"
  }
 },
 "nbformat": 4,
 "nbformat_minor": 5
}
