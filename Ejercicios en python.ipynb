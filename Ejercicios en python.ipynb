{
 "cells": [
  {
   "cell_type": "markdown",
   "id": "05da685e",
   "metadata": {},
   "source": [
    "###  Ejercicio 1: Seleccionar números pares del 1 al 100\n",
    "\n",
    "- El método insert() me permite añadir valores a un array. Para ello simplemente debo pasarle por parámetro la posicion seguido del valor a indexar."
   ]
  },
  {
   "cell_type": "code",
   "execution_count": 29,
   "id": "588cbf59",
   "metadata": {},
   "outputs": [
    {
     "name": "stdout",
     "output_type": "stream",
     "text": [
      "[2, 4, 6, 8, 10, 12, 14, 16, 18, 20, 22, 24, 26, 28, 30, 32, 34, 36, 38, 40, 42, 44, 46, 48, 50, 52, 54, 56, 58, 60, 62, 64, 66, 68, 70, 72, 74, 76, 78, 80, 82, 84, 86, 88, 90, 92, 94, 96, 98]\n"
     ]
    }
   ],
   "source": [
    "numeros    = list(range(1,100))\n",
    "numero_par =  []\n",
    "for i in range(len(numeros)):\n",
    "    if ((numeros[i] % 2)== 0):\n",
    "        numero_par.insert(i,numeros[i])\n",
    "print(numero_par)    "
   ]
  },
  {
   "cell_type": "markdown",
   "id": "a7960ca0",
   "metadata": {},
   "source": [
    "### Ejercicio 2: Introducir valores hasta adivinar un número\n",
    "- En este ejercicio se seleccionará un número del conjunto [0,100]. El usuario deberá ir introduciendo valores hasta que el valor introducido sea el número a adivinar.\n",
    "\n",
    "    - La librería \"random\" me permite generar un número aleatorio entre los valores introducidos en el método \"randint\".\n",
    "    - Para introducir un valor por comando debo usar el método input(). Como input() transforma todo lo introducido en una cadea de caracteres, debo introducir este input() en un \"int\" para decirle a pytrhon que estoy introduciendo un entero.\n",
    "    - Como la acción de validar si el dato es un entero puede generar un error, debo utilizar la estructura \"try; except:\". Esto me permite avisar a python de que si hay un error, realize lo que le haya puesto en la sección \"except:\"."
   ]
  },
  {
   "cell_type": "code",
   "execution_count": 58,
   "id": "3bbae562",
   "metadata": {},
   "outputs": [
    {
     "name": "stdout",
     "output_type": "stream",
     "text": [
      "81\n",
      "Número introducido: 50\n",
      "Prueba con un valor más alto... \n",
      "\n",
      "Vuelve a intentarolo: 60\n",
      "Prueba con un valor más alto... \n",
      "\n",
      "Vuelve a intentarolo: 70\n",
      "Prueba con un valor más alto... \n",
      "\n",
      "Vuelve a intentarolo: 81\n",
      " ¡Enhorabuena!, el número a adivinar era el 81 y lo has logrado en 4 intentos\n"
     ]
    }
   ],
   "source": [
    "import random\n",
    "numero_por_adivinar = random.randint(0,100)\n",
    "print(numero_por_adivinar)\n",
    "intentos = 1\n",
    "\n",
    "try:\n",
    "    numero_introducido = int(input(\"Número introducido: \"))\n",
    "except:\n",
    "    print(\"No se ha podido reconocer el número introducido....\")\n",
    "\n",
    "while(numero_por_adivinar is not numero_introducido):\n",
    "    intentos += 1\n",
    "    if(numero_introducido > numero_por_adivinar):\n",
    "        print(\"Prueba con un valor más bajo... \\n\")\n",
    "    else:\n",
    "        print(\"Prueba con un valor más alto... \\n\")\n",
    "    try:\n",
    "        numero_introducido = int(input(\"Vuelve a intentarolo: \"))\n",
    "    except:\n",
    "        print(\"No se ha podido reconocer el número introducido....\")\n",
    "print(\" ¡Enhorabuena!, el número a adivinar era el\",numero_por_adivinar,\"y lo has logrado en\",intentos,\"intentos\")       "
   ]
  },
  {
   "cell_type": "code",
   "execution_count": null,
   "id": "ab404222",
   "metadata": {},
   "outputs": [],
   "source": []
  }
 ],
 "metadata": {
  "kernelspec": {
   "display_name": "Python 3 (ipykernel)",
   "language": "python",
   "name": "python3"
  },
  "language_info": {
   "codemirror_mode": {
    "name": "ipython",
    "version": 3
   },
   "file_extension": ".py",
   "mimetype": "text/x-python",
   "name": "python",
   "nbconvert_exporter": "python",
   "pygments_lexer": "ipython3",
   "version": "3.10.0"
  }
 },
 "nbformat": 4,
 "nbformat_minor": 5
}
