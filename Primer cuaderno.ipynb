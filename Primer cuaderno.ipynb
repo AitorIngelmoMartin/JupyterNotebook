{
 "cells": [
  {
   "cell_type": "code",
   "execution_count": 3,
   "id": "096589c1",
   "metadata": {},
   "outputs": [
    {
     "name": "stdout",
     "output_type": "stream",
     "text": [
      "Diego tiene más edad que Aitor\n"
     ]
    }
   ],
   "source": [
    "Aitor = 20\n",
    "Diego = 22\n",
    "\n",
    "if Aitor > Diego:\n",
    "    print(\"Aitor tiene más edad que Diego\")\n",
    "else:\n",
    "    print(\"Diego tiene más edad que Aitor\")"
   ]
  },
  {
   "cell_type": "code",
   "execution_count": null,
   "id": "08f3a809",
   "metadata": {},
   "outputs": [],
   "source": []
  }
 ],
 "metadata": {
  "kernelspec": {
   "display_name": "Python 3 (ipykernel)",
   "language": "python",
   "name": "python3"
  },
  "language_info": {
   "codemirror_mode": {
    "name": "ipython",
    "version": 3
   },
   "file_extension": ".py",
   "mimetype": "text/x-python",
   "name": "python",
   "nbconvert_exporter": "python",
   "pygments_lexer": "ipython3",
   "version": "3.10.0"
  }
 },
 "nbformat": 4,
 "nbformat_minor": 5
}
